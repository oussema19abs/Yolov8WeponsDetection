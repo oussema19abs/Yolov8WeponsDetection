{
  "cells": [
    {
      "cell_type": "code",
      "execution_count": null,
      "metadata": {
        "colab": {
          "base_uri": "https://localhost:8080/"
        },
        "id": "XBAxyZK9pfbo",
        "outputId": "a3db5696-7fb2-4ad9-c1c4-d98336f36d06"
      },
      "outputs": [
        {
          "name": "stdout",
          "output_type": "stream",
          "text": [
            "Collecting ultralytics\n",
            "  Downloading ultralytics-8.3.176-py3-none-any.whl.metadata (37 kB)\n",
            "Collecting roboflow\n",
            "  Downloading roboflow-1.2.3-py3-none-any.whl.metadata (9.7 kB)\n",
            "Requirement already satisfied: pyyaml in /usr/local/lib/python3.11/dist-packages (6.0.2)\n",
            "Requirement already satisfied: numpy>=1.23.0 in /usr/local/lib/python3.11/dist-packages (from ultralytics) (2.0.2)\n",
            "Requirement already satisfied: matplotlib>=3.3.0 in /usr/local/lib/python3.11/dist-packages (from ultralytics) (3.10.0)\n",
            "Requirement already satisfied: opencv-python>=4.6.0 in /usr/local/lib/python3.11/dist-packages (from ultralytics) (4.12.0.88)\n",
            "Requirement already satisfied: pillow>=7.1.2 in /usr/local/lib/python3.11/dist-packages (from ultralytics) (11.3.0)\n",
            "Requirement already satisfied: requests>=2.23.0 in /usr/local/lib/python3.11/dist-packages (from ultralytics) (2.32.3)\n",
            "Requirement already satisfied: scipy>=1.4.1 in /usr/local/lib/python3.11/dist-packages (from ultralytics) (1.16.1)\n",
            "Requirement already satisfied: torch>=1.8.0 in /usr/local/lib/python3.11/dist-packages (from ultralytics) (2.6.0+cu124)\n",
            "Requirement already satisfied: torchvision>=0.9.0 in /usr/local/lib/python3.11/dist-packages (from ultralytics) (0.21.0+cu124)\n",
            "Requirement already satisfied: tqdm>=4.64.0 in /usr/local/lib/python3.11/dist-packages (from ultralytics) (4.67.1)\n",
            "Requirement already satisfied: psutil in /usr/local/lib/python3.11/dist-packages (from ultralytics) (5.9.5)\n",
            "Requirement already satisfied: py-cpuinfo in /usr/local/lib/python3.11/dist-packages (from ultralytics) (9.0.0)\n",
            "Requirement already satisfied: pandas>=1.1.4 in /usr/local/lib/python3.11/dist-packages (from ultralytics) (2.2.2)\n",
            "Collecting ultralytics-thop>=2.0.0 (from ultralytics)\n",
            "  Downloading ultralytics_thop-2.0.15-py3-none-any.whl.metadata (14 kB)\n",
            "Requirement already satisfied: certifi in /usr/local/lib/python3.11/dist-packages (from roboflow) (2025.8.3)\n",
            "Collecting idna==3.7 (from roboflow)\n",
            "  Downloading idna-3.7-py3-none-any.whl.metadata (9.9 kB)\n",
            "Requirement already satisfied: cycler in /usr/local/lib/python3.11/dist-packages (from roboflow) (0.12.1)\n",
            "Requirement already satisfied: kiwisolver>=1.3.1 in /usr/local/lib/python3.11/dist-packages (from roboflow) (1.4.8)\n",
            "Collecting opencv-python-headless==4.10.0.84 (from roboflow)\n",
            "  Downloading opencv_python_headless-4.10.0.84-cp37-abi3-manylinux_2_17_x86_64.manylinux2014_x86_64.whl.metadata (20 kB)\n",
            "Collecting pi-heif<2 (from roboflow)\n",
            "  Downloading pi_heif-1.1.0-cp311-cp311-manylinux_2_27_x86_64.manylinux_2_28_x86_64.whl.metadata (6.5 kB)\n",
            "Collecting pillow-avif-plugin<2 (from roboflow)\n",
            "  Downloading pillow_avif_plugin-1.5.2-cp311-cp311-manylinux_2_28_x86_64.whl.metadata (2.1 kB)\n",
            "Requirement already satisfied: python-dateutil in /usr/local/lib/python3.11/dist-packages (from roboflow) (2.9.0.post0)\n",
            "Collecting python-dotenv (from roboflow)\n",
            "  Downloading python_dotenv-1.1.1-py3-none-any.whl.metadata (24 kB)\n",
            "Requirement already satisfied: six in /usr/local/lib/python3.11/dist-packages (from roboflow) (1.17.0)\n",
            "Requirement already satisfied: urllib3>=1.26.6 in /usr/local/lib/python3.11/dist-packages (from roboflow) (2.5.0)\n",
            "Requirement already satisfied: requests-toolbelt in /usr/local/lib/python3.11/dist-packages (from roboflow) (1.0.0)\n",
            "Collecting filetype (from roboflow)\n",
            "  Downloading filetype-1.2.0-py2.py3-none-any.whl.metadata (6.5 kB)\n",
            "Requirement already satisfied: contourpy>=1.0.1 in /usr/local/lib/python3.11/dist-packages (from matplotlib>=3.3.0->ultralytics) (1.3.3)\n",
            "Requirement already satisfied: fonttools>=4.22.0 in /usr/local/lib/python3.11/dist-packages (from matplotlib>=3.3.0->ultralytics) (4.59.0)\n",
            "Requirement already satisfied: packaging>=20.0 in /usr/local/lib/python3.11/dist-packages (from matplotlib>=3.3.0->ultralytics) (25.0)\n",
            "Requirement already satisfied: pyparsing>=2.3.1 in /usr/local/lib/python3.11/dist-packages (from matplotlib>=3.3.0->ultralytics) (3.2.3)\n",
            "Requirement already satisfied: pytz>=2020.1 in /usr/local/lib/python3.11/dist-packages (from pandas>=1.1.4->ultralytics) (2025.2)\n",
            "Requirement already satisfied: tzdata>=2022.7 in /usr/local/lib/python3.11/dist-packages (from pandas>=1.1.4->ultralytics) (2025.2)\n",
            "Requirement already satisfied: charset-normalizer<4,>=2 in /usr/local/lib/python3.11/dist-packages (from requests>=2.23.0->ultralytics) (3.4.2)\n",
            "Requirement already satisfied: filelock in /usr/local/lib/python3.11/dist-packages (from torch>=1.8.0->ultralytics) (3.18.0)\n",
            "Requirement already satisfied: typing-extensions>=4.10.0 in /usr/local/lib/python3.11/dist-packages (from torch>=1.8.0->ultralytics) (4.14.1)\n",
            "Requirement already satisfied: networkx in /usr/local/lib/python3.11/dist-packages (from torch>=1.8.0->ultralytics) (3.5)\n",
            "Requirement already satisfied: jinja2 in /usr/local/lib/python3.11/dist-packages (from torch>=1.8.0->ultralytics) (3.1.6)\n",
            "Requirement already satisfied: fsspec in /usr/local/lib/python3.11/dist-packages (from torch>=1.8.0->ultralytics) (2025.3.0)\n",
            "Collecting nvidia-cuda-nvrtc-cu12==12.4.127 (from torch>=1.8.0->ultralytics)\n",
            "  Downloading nvidia_cuda_nvrtc_cu12-12.4.127-py3-none-manylinux2014_x86_64.whl.metadata (1.5 kB)\n",
            "Collecting nvidia-cuda-runtime-cu12==12.4.127 (from torch>=1.8.0->ultralytics)\n",
            "  Downloading nvidia_cuda_runtime_cu12-12.4.127-py3-none-manylinux2014_x86_64.whl.metadata (1.5 kB)\n",
            "Collecting nvidia-cuda-cupti-cu12==12.4.127 (from torch>=1.8.0->ultralytics)\n",
            "  Downloading nvidia_cuda_cupti_cu12-12.4.127-py3-none-manylinux2014_x86_64.whl.metadata (1.6 kB)\n",
            "Collecting nvidia-cudnn-cu12==9.1.0.70 (from torch>=1.8.0->ultralytics)\n",
            "  Downloading nvidia_cudnn_cu12-9.1.0.70-py3-none-manylinux2014_x86_64.whl.metadata (1.6 kB)\n",
            "Collecting nvidia-cublas-cu12==12.4.5.8 (from torch>=1.8.0->ultralytics)\n",
            "  Downloading nvidia_cublas_cu12-12.4.5.8-py3-none-manylinux2014_x86_64.whl.metadata (1.5 kB)\n",
            "Collecting nvidia-cufft-cu12==11.2.1.3 (from torch>=1.8.0->ultralytics)\n",
            "  Downloading nvidia_cufft_cu12-11.2.1.3-py3-none-manylinux2014_x86_64.whl.metadata (1.5 kB)\n",
            "Collecting nvidia-curand-cu12==10.3.5.147 (from torch>=1.8.0->ultralytics)\n",
            "  Downloading nvidia_curand_cu12-10.3.5.147-py3-none-manylinux2014_x86_64.whl.metadata (1.5 kB)\n",
            "Collecting nvidia-cusolver-cu12==11.6.1.9 (from torch>=1.8.0->ultralytics)\n",
            "  Downloading nvidia_cusolver_cu12-11.6.1.9-py3-none-manylinux2014_x86_64.whl.metadata (1.6 kB)\n",
            "Collecting nvidia-cusparse-cu12==12.3.1.170 (from torch>=1.8.0->ultralytics)\n",
            "  Downloading nvidia_cusparse_cu12-12.3.1.170-py3-none-manylinux2014_x86_64.whl.metadata (1.6 kB)\n",
            "Requirement already satisfied: nvidia-cusparselt-cu12==0.6.2 in /usr/local/lib/python3.11/dist-packages (from torch>=1.8.0->ultralytics) (0.6.2)\n",
            "Collecting nvidia-nccl-cu12==2.21.5 (from torch>=1.8.0->ultralytics)\n",
            "  Downloading nvidia_nccl_cu12-2.21.5-py3-none-manylinux2014_x86_64.whl.metadata (1.8 kB)\n",
            "Requirement already satisfied: nvidia-nvtx-cu12==12.4.127 in /usr/local/lib/python3.11/dist-packages (from torch>=1.8.0->ultralytics) (12.4.127)\n",
            "Collecting nvidia-nvjitlink-cu12==12.4.127 (from torch>=1.8.0->ultralytics)\n",
            "  Downloading nvidia_nvjitlink_cu12-12.4.127-py3-none-manylinux2014_x86_64.whl.metadata (1.5 kB)\n",
            "Requirement already satisfied: triton==3.2.0 in /usr/local/lib/python3.11/dist-packages (from torch>=1.8.0->ultralytics) (3.2.0)\n",
            "Requirement already satisfied: sympy==1.13.1 in /usr/local/lib/python3.11/dist-packages (from torch>=1.8.0->ultralytics) (1.13.1)\n",
            "Requirement already satisfied: mpmath<1.4,>=1.1.0 in /usr/local/lib/python3.11/dist-packages (from sympy==1.13.1->torch>=1.8.0->ultralytics) (1.3.0)\n",
            "Requirement already satisfied: MarkupSafe>=2.0 in /usr/local/lib/python3.11/dist-packages (from jinja2->torch>=1.8.0->ultralytics) (3.0.2)\n",
            "Downloading ultralytics-8.3.176-py3-none-any.whl (1.0 MB)\n",
            "\u001b[2K   \u001b[90m━━━━━━━━━━━━━━━━━━━━━━━━━━━━━━━━━━━━━━━━\u001b[0m \u001b[32m1.0/1.0 MB\u001b[0m \u001b[31m18.6 MB/s\u001b[0m eta \u001b[36m0:00:00\u001b[0m\n",
            "\u001b[?25hDownloading roboflow-1.2.3-py3-none-any.whl (86 kB)\n",
            "\u001b[2K   \u001b[90m━━━━━━━━━━━━━━━━━━━━━━━━━━━━━━━━━━━━━━━━\u001b[0m \u001b[32m86.9/86.9 kB\u001b[0m \u001b[31m9.0 MB/s\u001b[0m eta \u001b[36m0:00:00\u001b[0m\n",
            "\u001b[?25hDownloading idna-3.7-py3-none-any.whl (66 kB)\n",
            "\u001b[2K   \u001b[90m━━━━━━━━━━━━━━━━━━━━━━━━━━━━━━━━━━━━━━━━\u001b[0m \u001b[32m66.8/66.8 kB\u001b[0m \u001b[31m6.5 MB/s\u001b[0m eta \u001b[36m0:00:00\u001b[0m\n",
            "\u001b[?25hDownloading opencv_python_headless-4.10.0.84-cp37-abi3-manylinux_2_17_x86_64.manylinux2014_x86_64.whl (49.9 MB)\n",
            "\u001b[2K   \u001b[90m━━━━━━━━━━━━━━━━━━━━━━━━━━━━━━━━━━━━━━━━\u001b[0m \u001b[32m49.9/49.9 MB\u001b[0m \u001b[31m49.9 MB/s\u001b[0m eta \u001b[36m0:00:00\u001b[0m\n",
            "\u001b[?25hDownloading pi_heif-1.1.0-cp311-cp311-manylinux_2_27_x86_64.manylinux_2_28_x86_64.whl (1.4 MB)\n",
            "\u001b[2K   \u001b[90m━━━━━━━━━━━━━━━━━━━━━━━━━━━━━━━━━━━━━━━━\u001b[0m \u001b[32m1.4/1.4 MB\u001b[0m \u001b[31m78.5 MB/s\u001b[0m eta \u001b[36m0:00:00\u001b[0m\n",
            "\u001b[?25hDownloading pillow_avif_plugin-1.5.2-cp311-cp311-manylinux_2_28_x86_64.whl (4.2 MB)\n",
            "\u001b[2K   \u001b[90m━━━━━━━━━━━━━━━━━━━━━━━━━━━━━━━━━━━━━━━━\u001b[0m \u001b[32m4.2/4.2 MB\u001b[0m \u001b[31m110.1 MB/s\u001b[0m eta \u001b[36m0:00:00\u001b[0m\n",
            "\u001b[?25hDownloading nvidia_cublas_cu12-12.4.5.8-py3-none-manylinux2014_x86_64.whl (363.4 MB)\n",
            "\u001b[2K   \u001b[90m━━━━━━━━━━━━━━━━━━━━━━━━━━━━━━━━━━━━━━━━\u001b[0m \u001b[32m363.4/363.4 MB\u001b[0m \u001b[31m2.8 MB/s\u001b[0m eta \u001b[36m0:00:00\u001b[0m\n",
            "\u001b[?25hDownloading nvidia_cuda_cupti_cu12-12.4.127-py3-none-manylinux2014_x86_64.whl (13.8 MB)\n",
            "\u001b[2K   \u001b[90m━━━━━━━━━━━━━━━━━━━━━━━━━━━━━━━━━━━━━━━━\u001b[0m \u001b[32m13.8/13.8 MB\u001b[0m \u001b[31m125.1 MB/s\u001b[0m eta \u001b[36m0:00:00\u001b[0m\n",
            "\u001b[?25hDownloading nvidia_cuda_nvrtc_cu12-12.4.127-py3-none-manylinux2014_x86_64.whl (24.6 MB)\n",
            "\u001b[2K   \u001b[90m━━━━━━━━━━━━━━━━━━━━━━━━━━━━━━━━━━━━━━━━\u001b[0m \u001b[32m24.6/24.6 MB\u001b[0m \u001b[31m99.0 MB/s\u001b[0m eta \u001b[36m0:00:00\u001b[0m\n",
            "\u001b[?25hDownloading nvidia_cuda_runtime_cu12-12.4.127-py3-none-manylinux2014_x86_64.whl (883 kB)\n",
            "\u001b[2K   \u001b[90m━━━━━━━━━━━━━━━━━━━━━━━━━━━━━━━━━━━━━━━━\u001b[0m \u001b[32m883.7/883.7 kB\u001b[0m \u001b[31m52.3 MB/s\u001b[0m eta \u001b[36m0:00:00\u001b[0m\n",
            "\u001b[?25hDownloading nvidia_cudnn_cu12-9.1.0.70-py3-none-manylinux2014_x86_64.whl (664.8 MB)\n",
            "\u001b[2K   \u001b[90m━━━━━━━━━━━━━━━━━━━━━━━━━━━━━━━━━━━━━━━━\u001b[0m \u001b[32m664.8/664.8 MB\u001b[0m \u001b[31m1.7 MB/s\u001b[0m eta \u001b[36m0:00:00\u001b[0m\n",
            "\u001b[?25hDownloading nvidia_cufft_cu12-11.2.1.3-py3-none-manylinux2014_x86_64.whl (211.5 MB)\n",
            "\u001b[2K   \u001b[90m━━━━━━━━━━━━━━━━━━━━━━━━━━━━━━━━━━━━━━━━\u001b[0m \u001b[32m211.5/211.5 MB\u001b[0m \u001b[31m11.5 MB/s\u001b[0m eta \u001b[36m0:00:00\u001b[0m\n",
            "\u001b[?25hDownloading nvidia_curand_cu12-10.3.5.147-py3-none-manylinux2014_x86_64.whl (56.3 MB)\n",
            "\u001b[2K   \u001b[90m━━━━━━━━━━━━━━━━━━━━━━━━━━━━━━━━━━━━━━━━\u001b[0m \u001b[32m56.3/56.3 MB\u001b[0m \u001b[31m43.5 MB/s\u001b[0m eta \u001b[36m0:00:00\u001b[0m\n",
            "\u001b[?25hDownloading nvidia_cusolver_cu12-11.6.1.9-py3-none-manylinux2014_x86_64.whl (127.9 MB)\n",
            "\u001b[2K   \u001b[90m━━━━━━━━━━━━━━━━━━━━━━━━━━━━━━━━━━━━━━━━\u001b[0m \u001b[32m127.9/127.9 MB\u001b[0m \u001b[31m19.0 MB/s\u001b[0m eta \u001b[36m0:00:00\u001b[0m\n",
            "\u001b[?25hDownloading nvidia_cusparse_cu12-12.3.1.170-py3-none-manylinux2014_x86_64.whl (207.5 MB)\n",
            "\u001b[2K   \u001b[90m━━━━━━━━━━━━━━━━━━━━━━━━━━━━━━━━━━━━━━━━\u001b[0m \u001b[32m207.5/207.5 MB\u001b[0m \u001b[31m4.8 MB/s\u001b[0m eta \u001b[36m0:00:00\u001b[0m\n",
            "\u001b[?25hDownloading nvidia_nccl_cu12-2.21.5-py3-none-manylinux2014_x86_64.whl (188.7 MB)\n",
            "\u001b[2K   \u001b[90m━━━━━━━━━━━━━━━━━━━━━━━━━━━━━━━━━━━━━━━━\u001b[0m \u001b[32m188.7/188.7 MB\u001b[0m \u001b[31m13.0 MB/s\u001b[0m eta \u001b[36m0:00:00\u001b[0m\n",
            "\u001b[?25hDownloading nvidia_nvjitlink_cu12-12.4.127-py3-none-manylinux2014_x86_64.whl (21.1 MB)\n",
            "\u001b[2K   \u001b[90m━━━━━━━━━━━━━━━━━━━━━━━━━━━━━━━━━━━━━━━━\u001b[0m \u001b[32m21.1/21.1 MB\u001b[0m \u001b[31m100.0 MB/s\u001b[0m eta \u001b[36m0:00:00\u001b[0m\n",
            "\u001b[?25hDownloading ultralytics_thop-2.0.15-py3-none-any.whl (28 kB)\n",
            "Downloading filetype-1.2.0-py2.py3-none-any.whl (19 kB)\n",
            "Downloading python_dotenv-1.1.1-py3-none-any.whl (20 kB)\n",
            "Installing collected packages: pillow-avif-plugin, filetype, python-dotenv, pi-heif, opencv-python-headless, nvidia-nvjitlink-cu12, nvidia-nccl-cu12, nvidia-curand-cu12, nvidia-cufft-cu12, nvidia-cuda-runtime-cu12, nvidia-cuda-nvrtc-cu12, nvidia-cuda-cupti-cu12, nvidia-cublas-cu12, idna, nvidia-cusparse-cu12, nvidia-cudnn-cu12, nvidia-cusolver-cu12, roboflow, ultralytics-thop, ultralytics\n",
            "  Attempting uninstall: opencv-python-headless\n",
            "    Found existing installation: opencv-python-headless 4.12.0.88\n",
            "    Uninstalling opencv-python-headless-4.12.0.88:\n",
            "      Successfully uninstalled opencv-python-headless-4.12.0.88\n",
            "  Attempting uninstall: nvidia-nvjitlink-cu12\n",
            "    Found existing installation: nvidia-nvjitlink-cu12 12.5.82\n",
            "    Uninstalling nvidia-nvjitlink-cu12-12.5.82:\n",
            "      Successfully uninstalled nvidia-nvjitlink-cu12-12.5.82\n",
            "  Attempting uninstall: nvidia-nccl-cu12\n",
            "    Found existing installation: nvidia-nccl-cu12 2.23.4\n",
            "    Uninstalling nvidia-nccl-cu12-2.23.4:\n",
            "      Successfully uninstalled nvidia-nccl-cu12-2.23.4\n",
            "  Attempting uninstall: nvidia-curand-cu12\n",
            "    Found existing installation: nvidia-curand-cu12 10.3.6.82\n",
            "    Uninstalling nvidia-curand-cu12-10.3.6.82:\n",
            "      Successfully uninstalled nvidia-curand-cu12-10.3.6.82\n",
            "  Attempting uninstall: nvidia-cufft-cu12\n",
            "    Found existing installation: nvidia-cufft-cu12 11.2.3.61\n",
            "    Uninstalling nvidia-cufft-cu12-11.2.3.61:\n",
            "      Successfully uninstalled nvidia-cufft-cu12-11.2.3.61\n",
            "  Attempting uninstall: nvidia-cuda-runtime-cu12\n",
            "    Found existing installation: nvidia-cuda-runtime-cu12 12.5.82\n",
            "    Uninstalling nvidia-cuda-runtime-cu12-12.5.82:\n",
            "      Successfully uninstalled nvidia-cuda-runtime-cu12-12.5.82\n",
            "  Attempting uninstall: nvidia-cuda-nvrtc-cu12\n",
            "    Found existing installation: nvidia-cuda-nvrtc-cu12 12.5.82\n",
            "    Uninstalling nvidia-cuda-nvrtc-cu12-12.5.82:\n",
            "      Successfully uninstalled nvidia-cuda-nvrtc-cu12-12.5.82\n",
            "  Attempting uninstall: nvidia-cuda-cupti-cu12\n",
            "    Found existing installation: nvidia-cuda-cupti-cu12 12.5.82\n",
            "    Uninstalling nvidia-cuda-cupti-cu12-12.5.82:\n",
            "      Successfully uninstalled nvidia-cuda-cupti-cu12-12.5.82\n",
            "  Attempting uninstall: nvidia-cublas-cu12\n",
            "    Found existing installation: nvidia-cublas-cu12 12.5.3.2\n",
            "    Uninstalling nvidia-cublas-cu12-12.5.3.2:\n",
            "      Successfully uninstalled nvidia-cublas-cu12-12.5.3.2\n",
            "  Attempting uninstall: idna\n",
            "    Found existing installation: idna 3.10\n",
            "    Uninstalling idna-3.10:\n",
            "      Successfully uninstalled idna-3.10\n",
            "  Attempting uninstall: nvidia-cusparse-cu12\n",
            "    Found existing installation: nvidia-cusparse-cu12 12.5.1.3\n",
            "    Uninstalling nvidia-cusparse-cu12-12.5.1.3:\n",
            "      Successfully uninstalled nvidia-cusparse-cu12-12.5.1.3\n",
            "  Attempting uninstall: nvidia-cudnn-cu12\n",
            "    Found existing installation: nvidia-cudnn-cu12 9.3.0.75\n",
            "    Uninstalling nvidia-cudnn-cu12-9.3.0.75:\n",
            "      Successfully uninstalled nvidia-cudnn-cu12-9.3.0.75\n",
            "  Attempting uninstall: nvidia-cusolver-cu12\n",
            "    Found existing installation: nvidia-cusolver-cu12 11.6.3.83\n",
            "    Uninstalling nvidia-cusolver-cu12-11.6.3.83:\n",
            "      Successfully uninstalled nvidia-cusolver-cu12-11.6.3.83\n",
            "Successfully installed filetype-1.2.0 idna-3.7 nvidia-cublas-cu12-12.4.5.8 nvidia-cuda-cupti-cu12-12.4.127 nvidia-cuda-nvrtc-cu12-12.4.127 nvidia-cuda-runtime-cu12-12.4.127 nvidia-cudnn-cu12-9.1.0.70 nvidia-cufft-cu12-11.2.1.3 nvidia-curand-cu12-10.3.5.147 nvidia-cusolver-cu12-11.6.1.9 nvidia-cusparse-cu12-12.3.1.170 nvidia-nccl-cu12-2.21.5 nvidia-nvjitlink-cu12-12.4.127 opencv-python-headless-4.10.0.84 pi-heif-1.1.0 pillow-avif-plugin-1.5.2 python-dotenv-1.1.1 roboflow-1.2.3 ultralytics-8.3.176 ultralytics-thop-2.0.15\n",
            "Creating new Ultralytics Settings v0.0.6 file ✅ \n",
            "View Ultralytics Settings with 'yolo settings' or at '/root/.config/Ultralytics/settings.json'\n",
            "Update Settings with 'yolo settings key=value', i.e. 'yolo settings runs_dir=path/to/dir'. For help see https://docs.ultralytics.com/quickstart/#ultralytics-settings.\n",
            "loading Roboflow workspace...\n",
            "loading Roboflow project...\n"
          ]
        },
        {
          "name": "stderr",
          "output_type": "stream",
          "text": [
            "Downloading Dataset Version Zip in wepons-detection-2 to yolov8:: 100%|██████████| 121592/121592 [00:01<00:00, 72862.93it/s]"
          ]
        },
        {
          "name": "stdout",
          "output_type": "stream",
          "text": [
            "\n"
          ]
        },
        {
          "name": "stderr",
          "output_type": "stream",
          "text": [
            "\n",
            "Extracting Dataset Version Zip to wepons-detection-2 in yolov8:: 100%|██████████| 5240/5240 [00:00<00:00, 8069.87it/s]\n"
          ]
        },
        {
          "name": "stdout",
          "output_type": "stream",
          "text": [
            "📂 Dataset directory: /content/wepons-detection-2\n",
            "✅ data.yaml created with: {'train': '/content/wepons-detection-2/train/images', 'val': '/content/wepons-detection-2/valid/images', 'nc': 11, 'names': ['gun', 'guns', 'hand', 'knife', 'Knife', 'person', 'phone', 'pistol', 'rifle', 'ruler', 'weapon']}\n"
          ]
        },
        {
          "name": "stderr",
          "output_type": "stream",
          "text": [
            "Downloading https://github.com/ultralytics/assets/releases/download/v8.3.0/yolov8s.pt to 'yolov8s.pt': 100%|██████████| 21.5M/21.5M [00:00<00:00, 111MB/s]\n"
          ]
        },
        {
          "name": "stdout",
          "output_type": "stream",
          "text": [
            "Ultralytics 8.3.176 🚀 Python-3.11.13 torch-2.6.0+cu124 CUDA:0 (NVIDIA A100-SXM4-40GB, 40507MiB)\n",
            "\u001b[34m\u001b[1mengine/trainer: \u001b[0magnostic_nms=False, amp=True, augment=True, auto_augment=randaugment, batch=16, bgr=0.0, box=7.5, cache=False, cfg=None, classes=None, close_mosaic=10, cls=0.5, conf=None, copy_paste=0.0, copy_paste_mode=flip, cos_lr=False, cutmix=0.0, data=/content/wepons-detection-2/data.yaml, degrees=0.0, deterministic=True, device=None, dfl=1.5, dnn=False, dropout=0.0, dynamic=False, embed=None, epochs=30, erasing=0.4, exist_ok=False, fliplr=0.5, flipud=0.0, format=torchscript, fraction=1.0, freeze=None, half=False, hsv_h=0.015, hsv_s=0.7, hsv_v=0.4, imgsz=640, int8=False, iou=0.7, keras=False, kobj=1.0, line_width=None, lr0=0.01, lrf=0.01, mask_ratio=4, max_det=300, mixup=0.0, mode=train, model=yolov8s.pt, momentum=0.937, mosaic=1.0, multi_scale=False, name=weapondet, nbs=64, nms=False, opset=None, optimize=False, optimizer=auto, overlap_mask=True, patience=100, perspective=0.0, plots=True, pose=12.0, pretrained=True, profile=False, project=None, rect=False, resume=False, retina_masks=False, save=True, save_conf=False, save_crop=False, save_dir=runs/detect/weapondet, save_frames=False, save_json=False, save_period=-1, save_txt=False, scale=0.5, seed=0, shear=0.0, show=False, show_boxes=True, show_conf=True, show_labels=True, simplify=True, single_cls=False, source=None, split=val, stream_buffer=False, task=detect, time=None, tracker=botsort.yaml, translate=0.1, val=True, verbose=True, vid_stride=1, visualize=False, warmup_bias_lr=0.1, warmup_epochs=3.0, warmup_momentum=0.8, weight_decay=0.0005, workers=8, workspace=None\n"
          ]
        },
        {
          "name": "stderr",
          "output_type": "stream",
          "text": [
            "Downloading https://ultralytics.com/assets/Arial.ttf to '/root/.config/Ultralytics/Arial.ttf': 100%|██████████| 755k/755k [00:00<00:00, 14.4MB/s]"
          ]
        },
        {
          "name": "stdout",
          "output_type": "stream",
          "text": [
            "Overriding model.yaml nc=80 with nc=11\n",
            "\n",
            "                   from  n    params  module                                       arguments                     \n",
            "  0                  -1  1       928  ultralytics.nn.modules.conv.Conv             [3, 32, 3, 2]                 \n",
            "  1                  -1  1     18560  ultralytics.nn.modules.conv.Conv             [32, 64, 3, 2]                \n",
            "  2                  -1  1     29056  ultralytics.nn.modules.block.C2f             [64, 64, 1, True]             \n",
            "  3                  -1  1     73984  ultralytics.nn.modules.conv.Conv             [64, 128, 3, 2]               \n",
            "  4                  -1  2    197632  ultralytics.nn.modules.block.C2f             [128, 128, 2, True]           \n",
            "  5                  -1  1    295424  ultralytics.nn.modules.conv.Conv             [128, 256, 3, 2]              \n",
            "  6                  -1  2    788480  ultralytics.nn.modules.block.C2f             [256, 256, 2, True]           \n",
            "  7                  -1  1   1180672  ultralytics.nn.modules.conv.Conv             [256, 512, 3, 2]              \n",
            "  8                  -1  1   1838080  ultralytics.nn.modules.block.C2f             [512, 512, 1, True]           \n",
            "  9                  -1  1    656896  ultralytics.nn.modules.block.SPPF            [512, 512, 5]                 \n",
            " 10                  -1  1         0  torch.nn.modules.upsampling.Upsample         [None, 2, 'nearest']          \n",
            " 11             [-1, 6]  1         0  ultralytics.nn.modules.conv.Concat           [1]                           \n",
            " 12                  -1  1    591360  ultralytics.nn.modules.block.C2f             [768, 256, 1]                 \n",
            " 13                  -1  1         0  torch.nn.modules.upsampling.Upsample         [None, 2, 'nearest']          \n",
            " 14             [-1, 4]  1         0  ultralytics.nn.modules.conv.Concat           [1]                           \n",
            " 15                  -1  1    148224  ultralytics.nn.modules.block.C2f             [384, 128, 1]                 \n",
            " 16                  -1  1    147712  ultralytics.nn.modules.conv.Conv             [128, 128, 3, 2]              \n",
            " 17            [-1, 12]  1         0  ultralytics.nn.modules.conv.Concat           [1]                           \n",
            " 18                  -1  1    493056  ultralytics.nn.modules.block.C2f             [384, 256, 1]                 \n",
            " 19                  -1  1    590336  ultralytics.nn.modules.conv.Conv             [256, 256, 3, 2]              \n",
            " 20             [-1, 9]  1         0  ultralytics.nn.modules.conv.Concat           [1]                           \n",
            " 21                  -1  1   1969152  ultralytics.nn.modules.block.C2f             [768, 512, 1]                 \n"
          ]
        },
        {
          "name": "stderr",
          "output_type": "stream",
          "text": [
            "\n"
          ]
        },
        {
          "name": "stdout",
          "output_type": "stream",
          "text": [
            " 22        [15, 18, 21]  1   2120305  ultralytics.nn.modules.head.Detect           [11, [128, 256, 512]]         \n",
            "Model summary: 129 layers, 11,139,857 parameters, 11,139,841 gradients, 28.7 GFLOPs\n",
            "\n",
            "Transferred 349/355 items from pretrained weights\n",
            "Freezing layer 'model.22.dfl.conv.weight'\n",
            "\u001b[34m\u001b[1mAMP: \u001b[0mrunning Automatic Mixed Precision (AMP) checks...\n"
          ]
        },
        {
          "name": "stderr",
          "output_type": "stream",
          "text": [
            "Downloading https://github.com/ultralytics/assets/releases/download/v8.3.0/yolo11n.pt to 'yolo11n.pt': 100%|██████████| 5.35M/5.35M [00:00<00:00, 61.4MB/s]\n"
          ]
        },
        {
          "name": "stdout",
          "output_type": "stream",
          "text": [
            "\u001b[34m\u001b[1mAMP: \u001b[0mchecks passed ✅\n",
            "\u001b[34m\u001b[1mtrain: \u001b[0mFast image access ✅ (ping: 0.0±0.0 ms, read: 959.0±684.7 MB/s, size: 30.4 KB)\n"
          ]
        },
        {
          "name": "stderr",
          "output_type": "stream",
          "text": [
            "\u001b[34m\u001b[1mtrain: \u001b[0mScanning /content/wepons-detection-2/train/labels... 1810 images, 20 backgrounds, 0 corrupt: 100%|██████████| 1810/1810 [00:01<00:00, 1515.33it/s]\n"
          ]
        },
        {
          "name": "stdout",
          "output_type": "stream",
          "text": [
            "\u001b[34m\u001b[1mtrain: \u001b[0mNew cache created: /content/wepons-detection-2/train/labels.cache\n",
            "WARNING ⚠️ Box and segment counts should be equal, but got len(segments) = 62, len(boxes) = 4717. To resolve this only boxes will be used and all segments will be removed. To avoid this please supply either a detect or segment dataset, not a detect-segment mixed dataset.\n",
            "\u001b[34m\u001b[1malbumentations: \u001b[0mBlur(p=0.01, blur_limit=(3, 7)), MedianBlur(p=0.01, blur_limit=(3, 7)), ToGray(p=0.01, method='weighted_average', num_output_channels=3), CLAHE(p=0.01, clip_limit=(1.0, 4.0), tile_grid_size=(8, 8))\n",
            "\u001b[34m\u001b[1mval: \u001b[0mFast image access ✅ (ping: 0.0±0.0 ms, read: 565.7±233.5 MB/s, size: 32.7 KB)\n"
          ]
        },
        {
          "name": "stderr",
          "output_type": "stream",
          "text": [
            "\u001b[34m\u001b[1mval: \u001b[0mScanning /content/wepons-detection-2/valid/labels... 540 images, 84 backgrounds, 0 corrupt: 100%|██████████| 540/540 [00:00<00:00, 1387.63it/s]\n"
          ]
        },
        {
          "name": "stdout",
          "output_type": "stream",
          "text": [
            "\u001b[34m\u001b[1mval: \u001b[0mNew cache created: /content/wepons-detection-2/valid/labels.cache\n",
            "Plotting labels to runs/detect/weapondet/labels.jpg... \n",
            "\u001b[34m\u001b[1moptimizer:\u001b[0m 'optimizer=auto' found, ignoring 'lr0=0.01' and 'momentum=0.937' and determining best 'optimizer', 'lr0' and 'momentum' automatically... \n",
            "\u001b[34m\u001b[1moptimizer:\u001b[0m AdamW(lr=0.000667, momentum=0.9) with parameter groups 57 weight(decay=0.0), 64 weight(decay=0.0005), 63 bias(decay=0.0)\n",
            "Image sizes 640 train, 640 val\n",
            "Using 8 dataloader workers\n",
            "Logging results to \u001b[1mruns/detect/weapondet\u001b[0m\n",
            "Starting training for 30 epochs...\n",
            "\n",
            "      Epoch    GPU_mem   box_loss   cls_loss   dfl_loss  Instances       Size\n"
          ]
        },
        {
          "name": "stderr",
          "output_type": "stream",
          "text": [
            "       1/30      3.66G      1.346      2.784      1.537         11        640: 100%|██████████| 114/114 [00:12<00:00,  8.82it/s]\n",
            "                 Class     Images  Instances      Box(P          R      mAP50  mAP50-95): 100%|██████████| 17/17 [00:03<00:00,  5.39it/s]"
          ]
        },
        {
          "name": "stdout",
          "output_type": "stream",
          "text": [
            "                   all        540       1070      0.737      0.231      0.239      0.118\n"
          ]
        },
        {
          "name": "stderr",
          "output_type": "stream",
          "text": [
            "\n"
          ]
        },
        {
          "name": "stdout",
          "output_type": "stream",
          "text": [
            "\n",
            "      Epoch    GPU_mem   box_loss   cls_loss   dfl_loss  Instances       Size\n"
          ]
        },
        {
          "name": "stderr",
          "output_type": "stream",
          "text": [
            "       2/30      4.47G      1.315      1.691      1.504         10        640: 100%|██████████| 114/114 [00:10<00:00, 10.67it/s]\n",
            "                 Class     Images  Instances      Box(P          R      mAP50  mAP50-95): 100%|██████████| 17/17 [00:02<00:00,  7.59it/s]\n"
          ]
        },
        {
          "name": "stdout",
          "output_type": "stream",
          "text": [
            "                   all        540       1070      0.373      0.205      0.215      0.113\n",
            "\n",
            "      Epoch    GPU_mem   box_loss   cls_loss   dfl_loss  Instances       Size\n"
          ]
        },
        {
          "name": "stderr",
          "output_type": "stream",
          "text": [
            "       3/30      4.49G      1.378      1.705      1.559          7        640: 100%|██████████| 114/114 [00:10<00:00, 10.87it/s]\n",
            "                 Class     Images  Instances      Box(P          R      mAP50  mAP50-95): 100%|██████████| 17/17 [00:02<00:00,  8.06it/s]"
          ]
        },
        {
          "name": "stdout",
          "output_type": "stream",
          "text": [
            "                   all        540       1070      0.473      0.198      0.191     0.0895\n"
          ]
        },
        {
          "name": "stderr",
          "output_type": "stream",
          "text": [
            "\n"
          ]
        },
        {
          "name": "stdout",
          "output_type": "stream",
          "text": [
            "\n",
            "      Epoch    GPU_mem   box_loss   cls_loss   dfl_loss  Instances       Size\n"
          ]
        },
        {
          "name": "stderr",
          "output_type": "stream",
          "text": [
            "       4/30      4.54G      1.382      1.664      1.565         12        640: 100%|██████████| 114/114 [00:10<00:00, 11.08it/s]\n",
            "                 Class     Images  Instances      Box(P          R      mAP50  mAP50-95): 100%|██████████| 17/17 [00:02<00:00,  8.31it/s]"
          ]
        },
        {
          "name": "stdout",
          "output_type": "stream",
          "text": [
            "                   all        540       1070      0.532      0.221      0.229      0.105\n"
          ]
        },
        {
          "name": "stderr",
          "output_type": "stream",
          "text": [
            "\n"
          ]
        },
        {
          "name": "stdout",
          "output_type": "stream",
          "text": [
            "\n",
            "      Epoch    GPU_mem   box_loss   cls_loss   dfl_loss  Instances       Size\n"
          ]
        },
        {
          "name": "stderr",
          "output_type": "stream",
          "text": [
            "       5/30      4.56G      1.334      1.574      1.529          4        640: 100%|██████████| 114/114 [00:10<00:00, 10.96it/s]\n",
            "                 Class     Images  Instances      Box(P          R      mAP50  mAP50-95): 100%|██████████| 17/17 [00:02<00:00,  8.10it/s]"
          ]
        },
        {
          "name": "stdout",
          "output_type": "stream",
          "text": [
            "                   all        540       1070      0.525      0.235      0.276      0.141\n"
          ]
        },
        {
          "name": "stderr",
          "output_type": "stream",
          "text": [
            "\n"
          ]
        },
        {
          "name": "stdout",
          "output_type": "stream",
          "text": [
            "\n",
            "      Epoch    GPU_mem   box_loss   cls_loss   dfl_loss  Instances       Size\n"
          ]
        },
        {
          "name": "stderr",
          "output_type": "stream",
          "text": [
            "       6/30      4.61G      1.323      1.521      1.528          7        640: 100%|██████████| 114/114 [00:10<00:00, 11.20it/s]\n",
            "                 Class     Images  Instances      Box(P          R      mAP50  mAP50-95): 100%|██████████| 17/17 [00:02<00:00,  7.92it/s]"
          ]
        },
        {
          "name": "stdout",
          "output_type": "stream",
          "text": [
            "                   all        540       1070      0.536      0.262      0.283      0.147\n"
          ]
        },
        {
          "name": "stderr",
          "output_type": "stream",
          "text": [
            "\n"
          ]
        },
        {
          "name": "stdout",
          "output_type": "stream",
          "text": [
            "\n",
            "      Epoch    GPU_mem   box_loss   cls_loss   dfl_loss  Instances       Size\n"
          ]
        },
        {
          "name": "stderr",
          "output_type": "stream",
          "text": [
            "       7/30      4.64G      1.284      1.435      1.484         21        640: 100%|██████████| 114/114 [00:10<00:00, 10.93it/s]\n",
            "                 Class     Images  Instances      Box(P          R      mAP50  mAP50-95): 100%|██████████| 17/17 [00:02<00:00,  8.04it/s]"
          ]
        },
        {
          "name": "stdout",
          "output_type": "stream",
          "text": [
            "                   all        540       1070      0.526      0.274      0.292      0.153\n"
          ]
        },
        {
          "name": "stderr",
          "output_type": "stream",
          "text": [
            "\n"
          ]
        },
        {
          "name": "stdout",
          "output_type": "stream",
          "text": [
            "\n",
            "      Epoch    GPU_mem   box_loss   cls_loss   dfl_loss  Instances       Size\n"
          ]
        },
        {
          "name": "stderr",
          "output_type": "stream",
          "text": [
            "       8/30      4.69G      1.246      1.375      1.465         13        640: 100%|██████████| 114/114 [00:10<00:00, 10.98it/s]\n",
            "                 Class     Images  Instances      Box(P          R      mAP50  mAP50-95): 100%|██████████| 17/17 [00:02<00:00,  8.01it/s]"
          ]
        },
        {
          "name": "stdout",
          "output_type": "stream",
          "text": [
            "                   all        540       1070      0.589      0.255       0.31      0.164\n"
          ]
        },
        {
          "name": "stderr",
          "output_type": "stream",
          "text": [
            "\n"
          ]
        },
        {
          "name": "stdout",
          "output_type": "stream",
          "text": [
            "\n",
            "      Epoch    GPU_mem   box_loss   cls_loss   dfl_loss  Instances       Size\n"
          ]
        },
        {
          "name": "stderr",
          "output_type": "stream",
          "text": [
            "       9/30      4.71G      1.239      1.359      1.457         16        640: 100%|██████████| 114/114 [00:10<00:00, 10.86it/s]\n",
            "                 Class     Images  Instances      Box(P          R      mAP50  mAP50-95): 100%|██████████| 17/17 [00:02<00:00,  8.18it/s]"
          ]
        },
        {
          "name": "stdout",
          "output_type": "stream",
          "text": [
            "                   all        540       1070      0.574       0.29      0.321      0.174\n"
          ]
        },
        {
          "name": "stderr",
          "output_type": "stream",
          "text": [
            "\n"
          ]
        },
        {
          "name": "stdout",
          "output_type": "stream",
          "text": [
            "\n",
            "      Epoch    GPU_mem   box_loss   cls_loss   dfl_loss  Instances       Size\n"
          ]
        },
        {
          "name": "stderr",
          "output_type": "stream",
          "text": [
            "      10/30      4.76G        1.2      1.291      1.428         14        640: 100%|██████████| 114/114 [00:10<00:00, 10.92it/s]\n",
            "                 Class     Images  Instances      Box(P          R      mAP50  mAP50-95): 100%|██████████| 17/17 [00:02<00:00,  8.04it/s]"
          ]
        },
        {
          "name": "stdout",
          "output_type": "stream",
          "text": [
            "                   all        540       1070      0.576      0.273      0.321      0.178\n"
          ]
        },
        {
          "name": "stderr",
          "output_type": "stream",
          "text": [
            "\n"
          ]
        },
        {
          "name": "stdout",
          "output_type": "stream",
          "text": [
            "\n",
            "      Epoch    GPU_mem   box_loss   cls_loss   dfl_loss  Instances       Size\n"
          ]
        },
        {
          "name": "stderr",
          "output_type": "stream",
          "text": [
            "      11/30      4.78G      1.178       1.22      1.406          5        640: 100%|██████████| 114/114 [00:10<00:00, 10.91it/s]\n",
            "                 Class     Images  Instances      Box(P          R      mAP50  mAP50-95): 100%|██████████| 17/17 [00:02<00:00,  8.20it/s]"
          ]
        },
        {
          "name": "stdout",
          "output_type": "stream",
          "text": [
            "                   all        540       1070      0.636      0.282      0.347      0.196\n"
          ]
        },
        {
          "name": "stderr",
          "output_type": "stream",
          "text": [
            "\n"
          ]
        },
        {
          "name": "stdout",
          "output_type": "stream",
          "text": [
            "\n",
            "      Epoch    GPU_mem   box_loss   cls_loss   dfl_loss  Instances       Size\n"
          ]
        },
        {
          "name": "stderr",
          "output_type": "stream",
          "text": [
            "      12/30      4.83G      1.142      1.182      1.379          7        640: 100%|██████████| 114/114 [00:10<00:00, 11.03it/s]\n",
            "                 Class     Images  Instances      Box(P          R      mAP50  mAP50-95): 100%|██████████| 17/17 [00:02<00:00,  8.22it/s]"
          ]
        },
        {
          "name": "stdout",
          "output_type": "stream",
          "text": [
            "                   all        540       1070       0.59      0.302      0.332      0.186\n"
          ]
        },
        {
          "name": "stderr",
          "output_type": "stream",
          "text": [
            "\n"
          ]
        },
        {
          "name": "stdout",
          "output_type": "stream",
          "text": [
            "\n",
            "      Epoch    GPU_mem   box_loss   cls_loss   dfl_loss  Instances       Size\n"
          ]
        },
        {
          "name": "stderr",
          "output_type": "stream",
          "text": [
            "      13/30      4.86G      1.134      1.154      1.384          8        640: 100%|██████████| 114/114 [00:10<00:00, 10.87it/s]\n",
            "                 Class     Images  Instances      Box(P          R      mAP50  mAP50-95): 100%|██████████| 17/17 [00:02<00:00,  8.29it/s]"
          ]
        },
        {
          "name": "stdout",
          "output_type": "stream",
          "text": [
            "                   all        540       1070      0.608      0.321       0.35      0.201\n"
          ]
        },
        {
          "name": "stderr",
          "output_type": "stream",
          "text": [
            "\n"
          ]
        },
        {
          "name": "stdout",
          "output_type": "stream",
          "text": [
            "\n",
            "      Epoch    GPU_mem   box_loss   cls_loss   dfl_loss  Instances       Size\n"
          ]
        },
        {
          "name": "stderr",
          "output_type": "stream",
          "text": [
            "      14/30       4.9G      1.106      1.126      1.365          7        640: 100%|██████████| 114/114 [00:10<00:00, 11.05it/s]\n",
            "                 Class     Images  Instances      Box(P          R      mAP50  mAP50-95): 100%|██████████| 17/17 [00:02<00:00,  8.07it/s]"
          ]
        },
        {
          "name": "stdout",
          "output_type": "stream",
          "text": [
            "                   all        540       1070      0.608      0.315      0.351      0.203\n"
          ]
        },
        {
          "name": "stderr",
          "output_type": "stream",
          "text": [
            "\n"
          ]
        },
        {
          "name": "stdout",
          "output_type": "stream",
          "text": [
            "\n",
            "      Epoch    GPU_mem   box_loss   cls_loss   dfl_loss  Instances       Size\n"
          ]
        },
        {
          "name": "stderr",
          "output_type": "stream",
          "text": [
            "      15/30      4.93G      1.101      1.105       1.35          7        640: 100%|██████████| 114/114 [00:10<00:00, 11.07it/s]\n",
            "                 Class     Images  Instances      Box(P          R      mAP50  mAP50-95): 100%|██████████| 17/17 [00:02<00:00,  8.12it/s]"
          ]
        },
        {
          "name": "stdout",
          "output_type": "stream",
          "text": [
            "                   all        540       1070      0.603      0.314      0.382      0.214\n"
          ]
        },
        {
          "name": "stderr",
          "output_type": "stream",
          "text": [
            "\n"
          ]
        },
        {
          "name": "stdout",
          "output_type": "stream",
          "text": [
            "\n",
            "      Epoch    GPU_mem   box_loss   cls_loss   dfl_loss  Instances       Size\n"
          ]
        },
        {
          "name": "stderr",
          "output_type": "stream",
          "text": [
            "      16/30      4.98G      1.088      1.042      1.343          8        640: 100%|██████████| 114/114 [00:10<00:00, 11.04it/s]\n",
            "                 Class     Images  Instances      Box(P          R      mAP50  mAP50-95): 100%|██████████| 17/17 [00:02<00:00,  8.13it/s]"
          ]
        },
        {
          "name": "stdout",
          "output_type": "stream",
          "text": [
            "                   all        540       1070      0.617      0.331      0.368      0.209\n"
          ]
        },
        {
          "name": "stderr",
          "output_type": "stream",
          "text": [
            "\n"
          ]
        },
        {
          "name": "stdout",
          "output_type": "stream",
          "text": [
            "\n",
            "      Epoch    GPU_mem   box_loss   cls_loss   dfl_loss  Instances       Size\n"
          ]
        },
        {
          "name": "stderr",
          "output_type": "stream",
          "text": [
            "      17/30         5G      1.056      1.034       1.33          4        640: 100%|██████████| 114/114 [00:10<00:00, 10.94it/s]\n",
            "                 Class     Images  Instances      Box(P          R      mAP50  mAP50-95): 100%|██████████| 17/17 [00:02<00:00,  8.15it/s]"
          ]
        },
        {
          "name": "stdout",
          "output_type": "stream",
          "text": [
            "                   all        540       1070      0.512      0.362      0.397      0.228\n"
          ]
        },
        {
          "name": "stderr",
          "output_type": "stream",
          "text": [
            "\n"
          ]
        },
        {
          "name": "stdout",
          "output_type": "stream",
          "text": [
            "\n",
            "      Epoch    GPU_mem   box_loss   cls_loss   dfl_loss  Instances       Size\n"
          ]
        },
        {
          "name": "stderr",
          "output_type": "stream",
          "text": [
            "      18/30      5.05G      1.037     0.9982      1.307          7        640: 100%|██████████| 114/114 [00:10<00:00, 10.94it/s]\n",
            "                 Class     Images  Instances      Box(P          R      mAP50  mAP50-95): 100%|██████████| 17/17 [00:02<00:00,  8.17it/s]"
          ]
        },
        {
          "name": "stdout",
          "output_type": "stream",
          "text": [
            "                   all        540       1070      0.644       0.32      0.382      0.225\n"
          ]
        },
        {
          "name": "stderr",
          "output_type": "stream",
          "text": [
            "\n"
          ]
        },
        {
          "name": "stdout",
          "output_type": "stream",
          "text": [
            "\n",
            "      Epoch    GPU_mem   box_loss   cls_loss   dfl_loss  Instances       Size\n"
          ]
        },
        {
          "name": "stderr",
          "output_type": "stream",
          "text": [
            "      19/30      5.07G      1.031      0.983      1.307          8        640: 100%|██████████| 114/114 [00:10<00:00, 10.87it/s]\n",
            "                 Class     Images  Instances      Box(P          R      mAP50  mAP50-95): 100%|██████████| 17/17 [00:02<00:00,  8.26it/s]"
          ]
        },
        {
          "name": "stdout",
          "output_type": "stream",
          "text": [
            "                   all        540       1070      0.623      0.348      0.395      0.232\n"
          ]
        },
        {
          "name": "stderr",
          "output_type": "stream",
          "text": [
            "\n"
          ]
        },
        {
          "name": "stdout",
          "output_type": "stream",
          "text": [
            "\n",
            "      Epoch    GPU_mem   box_loss   cls_loss   dfl_loss  Instances       Size\n"
          ]
        },
        {
          "name": "stderr",
          "output_type": "stream",
          "text": [
            "      20/30      5.12G      1.001     0.9451      1.285         10        640: 100%|██████████| 114/114 [00:10<00:00, 11.07it/s]\n",
            "                 Class     Images  Instances      Box(P          R      mAP50  mAP50-95): 100%|██████████| 17/17 [00:02<00:00,  8.25it/s]"
          ]
        },
        {
          "name": "stdout",
          "output_type": "stream",
          "text": [
            "                   all        540       1070      0.665      0.343      0.409      0.237\n"
          ]
        },
        {
          "name": "stderr",
          "output_type": "stream",
          "text": [
            "\n"
          ]
        },
        {
          "name": "stdout",
          "output_type": "stream",
          "text": [
            "Closing dataloader mosaic\n",
            "\u001b[34m\u001b[1malbumentations: \u001b[0mBlur(p=0.01, blur_limit=(3, 7)), MedianBlur(p=0.01, blur_limit=(3, 7)), ToGray(p=0.01, method='weighted_average', num_output_channels=3), CLAHE(p=0.01, clip_limit=(1.0, 4.0), tile_grid_size=(8, 8))\n",
            "\n",
            "      Epoch    GPU_mem   box_loss   cls_loss   dfl_loss  Instances       Size\n"
          ]
        },
        {
          "name": "stderr",
          "output_type": "stream",
          "text": [
            "      21/30      5.15G      1.014     0.8447      1.304          4        640: 100%|██████████| 114/114 [00:10<00:00, 10.49it/s]\n",
            "                 Class     Images  Instances      Box(P          R      mAP50  mAP50-95): 100%|██████████| 17/17 [00:02<00:00,  8.16it/s]"
          ]
        },
        {
          "name": "stdout",
          "output_type": "stream",
          "text": [
            "                   all        540       1070       0.64      0.341      0.386       0.23\n"
          ]
        },
        {
          "name": "stderr",
          "output_type": "stream",
          "text": [
            "\n"
          ]
        },
        {
          "name": "stdout",
          "output_type": "stream",
          "text": [
            "\n",
            "      Epoch    GPU_mem   box_loss   cls_loss   dfl_loss  Instances       Size\n"
          ]
        },
        {
          "name": "stderr",
          "output_type": "stream",
          "text": [
            "      22/30       5.2G     0.9781     0.7704       1.27          5        640: 100%|██████████| 114/114 [00:10<00:00, 11.20it/s]\n",
            "                 Class     Images  Instances      Box(P          R      mAP50  mAP50-95): 100%|██████████| 17/17 [00:02<00:00,  8.36it/s]"
          ]
        },
        {
          "name": "stdout",
          "output_type": "stream",
          "text": [
            "                   all        540       1070      0.607      0.378      0.414      0.237\n"
          ]
        },
        {
          "name": "stderr",
          "output_type": "stream",
          "text": [
            "\n"
          ]
        },
        {
          "name": "stdout",
          "output_type": "stream",
          "text": [
            "\n",
            "      Epoch    GPU_mem   box_loss   cls_loss   dfl_loss  Instances       Size\n"
          ]
        },
        {
          "name": "stderr",
          "output_type": "stream",
          "text": [
            "      23/30      5.22G     0.9368     0.7266      1.248          2        640: 100%|██████████| 114/114 [00:10<00:00, 11.06it/s]\n",
            "                 Class     Images  Instances      Box(P          R      mAP50  mAP50-95): 100%|██████████| 17/17 [00:02<00:00,  8.19it/s]"
          ]
        },
        {
          "name": "stdout",
          "output_type": "stream",
          "text": [
            "                   all        540       1070      0.581      0.372      0.405      0.238\n"
          ]
        },
        {
          "name": "stderr",
          "output_type": "stream",
          "text": [
            "\n"
          ]
        },
        {
          "name": "stdout",
          "output_type": "stream",
          "text": [
            "\n",
            "      Epoch    GPU_mem   box_loss   cls_loss   dfl_loss  Instances       Size\n"
          ]
        },
        {
          "name": "stderr",
          "output_type": "stream",
          "text": [
            "      24/30      5.27G     0.9163     0.7047      1.247          3        640: 100%|██████████| 114/114 [00:10<00:00, 11.21it/s]\n",
            "                 Class     Images  Instances      Box(P          R      mAP50  mAP50-95): 100%|██████████| 17/17 [00:02<00:00,  8.19it/s]"
          ]
        },
        {
          "name": "stdout",
          "output_type": "stream",
          "text": [
            "                   all        540       1070      0.544      0.418      0.426      0.252\n"
          ]
        },
        {
          "name": "stderr",
          "output_type": "stream",
          "text": [
            "\n"
          ]
        },
        {
          "name": "stdout",
          "output_type": "stream",
          "text": [
            "\n",
            "      Epoch    GPU_mem   box_loss   cls_loss   dfl_loss  Instances       Size\n"
          ]
        },
        {
          "name": "stderr",
          "output_type": "stream",
          "text": [
            "      25/30      5.29G     0.8988     0.6735      1.211          7        640: 100%|██████████| 114/114 [00:10<00:00, 11.17it/s]\n",
            "                 Class     Images  Instances      Box(P          R      mAP50  mAP50-95): 100%|██████████| 17/17 [00:02<00:00,  8.06it/s]"
          ]
        },
        {
          "name": "stdout",
          "output_type": "stream",
          "text": [
            "                   all        540       1070      0.533      0.418      0.423       0.26\n"
          ]
        },
        {
          "name": "stderr",
          "output_type": "stream",
          "text": [
            "\n"
          ]
        },
        {
          "name": "stdout",
          "output_type": "stream",
          "text": [
            "\n",
            "      Epoch    GPU_mem   box_loss   cls_loss   dfl_loss  Instances       Size\n"
          ]
        },
        {
          "name": "stderr",
          "output_type": "stream",
          "text": [
            "      26/30      5.34G      0.874     0.6561      1.206          2        640: 100%|██████████| 114/114 [00:10<00:00, 11.13it/s]\n",
            "                 Class     Images  Instances      Box(P          R      mAP50  mAP50-95): 100%|██████████| 17/17 [00:02<00:00,  8.10it/s]"
          ]
        },
        {
          "name": "stdout",
          "output_type": "stream",
          "text": [
            "                   all        540       1070      0.562      0.415      0.418      0.257\n"
          ]
        },
        {
          "name": "stderr",
          "output_type": "stream",
          "text": [
            "\n"
          ]
        },
        {
          "name": "stdout",
          "output_type": "stream",
          "text": [
            "\n",
            "      Epoch    GPU_mem   box_loss   cls_loss   dfl_loss  Instances       Size\n"
          ]
        },
        {
          "name": "stderr",
          "output_type": "stream",
          "text": [
            "      27/30      5.37G     0.8493      0.619      1.195          5        640: 100%|██████████| 114/114 [00:10<00:00, 11.12it/s]\n",
            "                 Class     Images  Instances      Box(P          R      mAP50  mAP50-95): 100%|██████████| 17/17 [00:02<00:00,  8.27it/s]"
          ]
        },
        {
          "name": "stdout",
          "output_type": "stream",
          "text": [
            "                   all        540       1070       0.52      0.435      0.537      0.295\n"
          ]
        },
        {
          "name": "stderr",
          "output_type": "stream",
          "text": [
            "\n"
          ]
        },
        {
          "name": "stdout",
          "output_type": "stream",
          "text": [
            "\n",
            "      Epoch    GPU_mem   box_loss   cls_loss   dfl_loss  Instances       Size\n"
          ]
        },
        {
          "name": "stderr",
          "output_type": "stream",
          "text": [
            "      28/30      5.41G     0.8438     0.5966      1.182          7        640: 100%|██████████| 114/114 [00:10<00:00, 11.17it/s]\n",
            "                 Class     Images  Instances      Box(P          R      mAP50  mAP50-95): 100%|██████████| 17/17 [00:02<00:00,  8.41it/s]"
          ]
        },
        {
          "name": "stdout",
          "output_type": "stream",
          "text": [
            "                   all        540       1070      0.562      0.429      0.445      0.272\n"
          ]
        },
        {
          "name": "stderr",
          "output_type": "stream",
          "text": [
            "\n"
          ]
        },
        {
          "name": "stdout",
          "output_type": "stream",
          "text": [
            "\n",
            "      Epoch    GPU_mem   box_loss   cls_loss   dfl_loss  Instances       Size\n"
          ]
        },
        {
          "name": "stderr",
          "output_type": "stream",
          "text": [
            "      29/30      5.44G      0.813     0.5717       1.16          5        640: 100%|██████████| 114/114 [00:10<00:00, 11.25it/s]\n",
            "                 Class     Images  Instances      Box(P          R      mAP50  mAP50-95): 100%|██████████| 17/17 [00:02<00:00,  8.45it/s]"
          ]
        },
        {
          "name": "stdout",
          "output_type": "stream",
          "text": [
            "                   all        540       1070      0.582      0.404      0.449      0.269\n"
          ]
        },
        {
          "name": "stderr",
          "output_type": "stream",
          "text": [
            "\n"
          ]
        },
        {
          "name": "stdout",
          "output_type": "stream",
          "text": [
            "\n",
            "      Epoch    GPU_mem   box_loss   cls_loss   dfl_loss  Instances       Size\n"
          ]
        },
        {
          "name": "stderr",
          "output_type": "stream",
          "text": [
            "      30/30      5.49G     0.7944     0.5582      1.158          3        640: 100%|██████████| 114/114 [00:10<00:00, 11.25it/s]\n",
            "                 Class     Images  Instances      Box(P          R      mAP50  mAP50-95): 100%|██████████| 17/17 [00:02<00:00,  8.26it/s]"
          ]
        },
        {
          "name": "stdout",
          "output_type": "stream",
          "text": [
            "                   all        540       1070      0.521      0.453      0.438      0.267\n"
          ]
        },
        {
          "name": "stderr",
          "output_type": "stream",
          "text": [
            "\n"
          ]
        },
        {
          "name": "stdout",
          "output_type": "stream",
          "text": [
            "\n",
            "30 epochs completed in 0.109 hours.\n",
            "Optimizer stripped from runs/detect/weapondet/weights/last.pt, 22.5MB\n",
            "Optimizer stripped from runs/detect/weapondet/weights/best.pt, 22.5MB\n",
            "\n",
            "Validating runs/detect/weapondet/weights/best.pt...\n",
            "Ultralytics 8.3.176 🚀 Python-3.11.13 torch-2.6.0+cu124 CUDA:0 (NVIDIA A100-SXM4-40GB, 40507MiB)\n",
            "Model summary (fused): 72 layers, 11,129,841 parameters, 0 gradients, 28.5 GFLOPs\n"
          ]
        },
        {
          "name": "stderr",
          "output_type": "stream",
          "text": [
            "                 Class     Images  Instances      Box(P          R      mAP50  mAP50-95): 100%|██████████| 17/17 [00:04<00:00,  4.24it/s]\n"
          ]
        },
        {
          "name": "stdout",
          "output_type": "stream",
          "text": [
            "                   all        540       1070      0.572      0.411      0.452      0.285\n",
            "                   gun          1          1          1          0      0.142     0.0477\n",
            "                  guns         27         38      0.381      0.632      0.412      0.266\n",
            "                 knife         12         17      0.655      0.114        0.3      0.129\n",
            "                 Knife        120        134      0.711      0.642      0.713      0.344\n",
            "                person        296        540      0.832      0.865      0.909      0.706\n",
            "                pistol          1          1          0          0          0          0\n",
            "                 rifle        193        238      0.804      0.878      0.916      0.697\n",
            "                 ruler          1          1          0          0          0          0\n",
            "                weapon         88        100      0.762       0.57      0.672      0.376\n",
            "Speed: 0.1ms preprocess, 2.8ms inference, 0.0ms loss, 1.3ms postprocess per image\n",
            "Results saved to \u001b[1mruns/detect/weapondet\u001b[0m\n",
            "✅ Found weights at: runs/detect/weapondet/weights/best.pt\n",
            "WARNING ⚠️ Environment does not support cv2.imshow() or PIL Image.show()\n",
            "\n",
            "\n",
            "image 1/264 /content/wepons-detection-2/test/images/-22-_jpg.rf.3da2dc4ef2e655596e18822d565c6b61.jpg: 640x640 (no detections), 7.7ms\n",
            "image 2/264 /content/wepons-detection-2/test/images/-5-_jpg.rf.3025f606b831212c477cdc4fa415529d.jpg: 640x640 1 person, 7.4ms\n",
            "image 3/264 /content/wepons-detection-2/test/images/-6-_jpg.rf.5e784d7543884cb8b7e590f0f74afd3e.jpg: 640x640 1 guns, 1 person, 8.7ms\n",
            "image 4/264 /content/wepons-detection-2/test/images/-8-_jpg.rf.18cf5add5bbe97f2b781b8f96936f78e.jpg: 640x640 3 persons, 7.9ms\n",
            "image 5/264 /content/wepons-detection-2/test/images/-R6IMF8W_png.rf.fc790c9ed81fabc0e6d870358ab62ef5.jpg: 640x640 1 weapon, 7.3ms\n",
            "image 6/264 /content/wepons-detection-2/test/images/-R8U3GJ2_png.rf.a54baf3498ab2538429219bf413c7820.jpg: 640x640 1 person, 2 weapons, 7.2ms\n",
            "image 7/264 /content/wepons-detection-2/test/images/-R9VSCMH_png.rf.77c5f2520ba526b189967e228a9ab7f2.jpg: 640x640 2 persons, 1 weapon, 7.5ms\n",
            "image 8/264 /content/wepons-detection-2/test/images/-RVL6XNS_png.rf.121cae74ea292ceb78c59f3131689693.jpg: 640x640 1 weapon, 7.4ms\n",
            "image 9/264 /content/wepons-detection-2/test/images/-RXE0T9P_png.rf.f722e6ace4a3e4f8b2ed16d2311270cf.jpg: 640x640 1 person, 7.6ms\n",
            "image 10/264 /content/wepons-detection-2/test/images/-RY011XZ_png.rf.9853696966dc7aafd2c5586b70efcdae.jpg: 640x640 1 weapon, 8.0ms\n",
            "image 11/264 /content/wepons-detection-2/test/images/107_jpg.rf.351b02a202bb87a15942da58c6523421.jpg: 640x640 1 Knife, 8.1ms\n",
            "image 12/264 /content/wepons-detection-2/test/images/119_jpg.rf.d8cd28f802734f45e87dd5a8a8741c75.jpg: 640x640 1 Knife, 1 person, 8.3ms\n",
            "image 13/264 /content/wepons-detection-2/test/images/1303_png.rf.8f85aacf9e146a5fd7bcad5cc0566ff7.jpg: 640x640 (no detections), 7.7ms\n",
            "image 14/264 /content/wepons-detection-2/test/images/130_jpg.rf.36be8676a30fd4cd0c1401f5a881fef9.jpg: 640x640 2 Knifes, 7.7ms\n",
            "image 15/264 /content/wepons-detection-2/test/images/1649338728-4763157_jpg.rf.2f3c312384c67c5fbe0c31229ef02986.jpg: 640x640 1 Knife, 7.7ms\n",
            "image 16/264 /content/wepons-detection-2/test/images/1649338735-836655_jpg.rf.d491676f9669109e6b7063388c80ecd5.jpg: 640x640 1 Knife, 7.3ms\n",
            "image 17/264 /content/wepons-detection-2/test/images/1649338743-828021_jpg.rf.7b6ed8fbe70eb6c917317dd844f46a96.jpg: 640x640 1 Knife, 7.5ms\n",
            "image 18/264 /content/wepons-detection-2/test/images/1813_png.rf.f874ed7f3a277ff0df358c6825336230.jpg: 640x640 (no detections), 8.2ms\n",
            "image 19/264 /content/wepons-detection-2/test/images/181_png.rf.f7abfa8c4bc76133e2fb5a2a60978c94.jpg: 640x640 1 guns, 7.6ms\n",
            "image 20/264 /content/wepons-detection-2/test/images/182_png.rf.cd66f01e09d8896618db5c4ce308b37e.jpg: 640x640 1 person, 7.9ms\n",
            "image 21/264 /content/wepons-detection-2/test/images/19_jpg.rf.55aba33905a93e984bee0ce45e4368dd.jpg: 640x640 1 guns, 1 Knife, 1 person, 7.4ms\n",
            "image 22/264 /content/wepons-detection-2/test/images/1_png.rf.0da35b7ab99903fbdaca08d8aa773fd3.jpg: 640x640 (no detections), 7.2ms\n",
            "image 23/264 /content/wepons-detection-2/test/images/1_png.rf.29bc90677270ccf65f9a12945b2bc121.jpg: 640x640 1 person, 7.1ms\n",
            "image 24/264 /content/wepons-detection-2/test/images/1_png.rf.47e8163d67f40c082f0a9fc29984e3c2.jpg: 640x640 (no detections), 7.8ms\n",
            "image 25/264 /content/wepons-detection-2/test/images/1_png.rf.fc98719696d5b4976670329bd0f21191.jpg: 640x640 (no detections), 7.8ms\n",
            "image 26/264 /content/wepons-detection-2/test/images/2-164-_jpg.rf.820200fe2213393e83f1b96635ecf104.jpg: 640x640 1 rifle, 7.9ms\n",
            "image 27/264 /content/wepons-detection-2/test/images/2022-04-15_13_jpg.rf.4789b5f75a45843084a807a9f91416e0.jpg: 640x640 1 Knife, 1 person, 9.3ms\n",
            "image 28/264 /content/wepons-detection-2/test/images/2022-04-15_3_jpg.rf.e83d7789d113c9f903e023c8080d652d.jpg: 640x640 1 Knife, 3 persons, 8.5ms\n",
            "image 29/264 /content/wepons-detection-2/test/images/2022-04-15_56_jpg.rf.410790ef928f75eb7289b70efecda46c.jpg: 640x640 1 Knife, 3 persons, 7.9ms\n",
            "image 30/264 /content/wepons-detection-2/test/images/2023-02-02_10-06-13-095869_Knife_jpg.rf.8b26aa8608a358eb0fee85de841a60a6.jpg: 640x640 1 knife, 1 Knife, 1 person, 7.6ms\n",
            "image 31/264 /content/wepons-detection-2/test/images/2023-02-09_04-57-36-793258_Knife_jpg.rf.30d1623f000d904c449fcc523a60b0b7.jpg: 640x640 3 persons, 7.5ms\n",
            "image 32/264 /content/wepons-detection-2/test/images/207_png.rf.bb5fdab889fb86fb7f787ae622942c95.jpg: 640x640 (no detections), 7.5ms\n",
            "image 33/264 /content/wepons-detection-2/test/images/220_png.rf.233367dbba32602e9e7c4eb60222507c.jpg: 640x640 (no detections), 7.9ms\n",
            "image 34/264 /content/wepons-detection-2/test/images/224_jpg.rf.fa4933e7246950de258cf7b29c9fe102.jpg: 640x640 2 Knifes, 7.4ms\n",
            "image 35/264 /content/wepons-detection-2/test/images/227_png.rf.3256cccdc0bf89d9215c26260f1825af.jpg: 640x640 (no detections), 7.9ms\n",
            "image 36/264 /content/wepons-detection-2/test/images/229_png.rf.03223f19b4bc23b80a5ff1217f31d620.jpg: 640x640 (no detections), 7.6ms\n",
            "image 37/264 /content/wepons-detection-2/test/images/25_jpg.rf.0acfec0d69f199be213c23927c053bfb.jpg: 640x640 1 Knife, 2 persons, 7.6ms\n",
            "image 38/264 /content/wepons-detection-2/test/images/322_jpg.rf.48eaf37491056bfe3aa93f25271bec6b.jpg: 640x640 1 Knife, 7.4ms\n",
            "image 39/264 /content/wepons-detection-2/test/images/324_jpg.rf.8b617cc854bd8e7e7e54384577aa30a3.jpg: 640x640 1 Knife, 7.5ms\n",
            "image 40/264 /content/wepons-detection-2/test/images/3408_jpg.rf.dbeb4fc9e555e2ee7f406e06a637b8b8.jpg: 640x640 2 Knifes, 2 persons, 7.5ms\n",
            "image 41/264 /content/wepons-detection-2/test/images/3_png.rf.81757293cced6858afea215efe7ee06c.jpg: 640x640 (no detections), 7.4ms\n",
            "image 42/264 /content/wepons-detection-2/test/images/42_jpg.rf.de43e19871f425e314e0b4ffae42f5f0.jpg: 640x640 1 guns, 1 person, 8.5ms\n",
            "image 43/264 /content/wepons-detection-2/test/images/43_png.rf.e7f83067edaff722ab66ef1b1f5571ea.jpg: 640x640 1 person, 7.6ms\n",
            "image 44/264 /content/wepons-detection-2/test/images/46_jpg.rf.6e2509b239c0d83743159f648b436fe9.jpg: 640x640 1 Knife, 2 persons, 7.5ms\n",
            "image 45/264 /content/wepons-detection-2/test/images/50_jpg.rf.cc7badffa9d44ae0ac28b794380cdae5.jpg: 640x640 2 Knifes, 7.3ms\n",
            "image 46/264 /content/wepons-detection-2/test/images/51_jpg.rf.8653b96483390b90bef7b29ea5e2fcf7.jpg: 640x640 1 Knife, 7.8ms\n",
            "image 47/264 /content/wepons-detection-2/test/images/563_png_jpg.rf.d973b5675bab153d010894913a637e93.jpg: 640x640 1 weapon, 7.7ms\n",
            "image 48/264 /content/wepons-detection-2/test/images/635_png_jpg.rf.667ae5c782ccd60a8a7ada588d15cfea.jpg: 640x640 1 guns, 8.2ms\n",
            "image 49/264 /content/wepons-detection-2/test/images/68_jpg.rf.b90c2fe1c87811d108c9b0e4cb90e856.jpg: 640x640 1 Knife, 1 person, 8.3ms\n",
            "image 50/264 /content/wepons-detection-2/test/images/80_jpg.rf.651addbe6b862bde692dcf2fc9e0332f.jpg: 640x640 1 Knife, 2 persons, 8.1ms\n",
            "image 51/264 /content/wepons-detection-2/test/images/82_jpg.rf.fc305d17ac8930d0379a08721ca9f3d3.jpg: 640x640 1 Knife, 2 persons, 8.2ms\n",
            "image 52/264 /content/wepons-detection-2/test/images/88_png.rf.75881fd526251dc06316345a5f31120f.jpg: 640x640 1 person, 7.6ms\n",
            "image 53/264 /content/wepons-detection-2/test/images/8_png.rf.3191d73be97004a84233f4423b41d7cb.jpg: 640x640 1 Knife, 1 person, 7.3ms\n",
            "image 54/264 /content/wepons-detection-2/test/images/93_png.rf.13f979295a2f64a84e816b5d3a336d57.jpg: 640x640 2 persons, 7.4ms\n",
            "image 55/264 /content/wepons-detection-2/test/images/97_jpg.rf.89bf38bf7bbce8f14bcfb569305234bd.jpg: 640x640 1 Knife, 1 person, 7.5ms\n",
            "image 56/264 /content/wepons-detection-2/test/images/DefenseKnifeAttack0779_jpg.rf.889cdeb2103954929ce2638db1a42102.jpg: 640x640 1 Knife, 2 persons, 7.4ms\n",
            "image 57/264 /content/wepons-detection-2/test/images/DefenseKnifeAttack0940_jpg.rf.940f395922899ceb31eedfa4c6ccf1c5.jpg: 640x640 1 Knife, 2 persons, 7.6ms\n",
            "image 58/264 /content/wepons-detection-2/test/images/KravMagaKnifeDefenseTechniques068_jpg.rf.31372d83ab4f4e7f75789212c03e7cf5.jpg: 640x640 1 Knife, 2 persons, 7.5ms\n",
            "image 59/264 /content/wepons-detection-2/test/images/KravMagaKnifeDefenseTechniques129_jpg.rf.05e310f8bd0628d0d99ffe07bb7579e3.jpg: 640x640 2 Knifes, 2 persons, 7.3ms\n",
            "image 60/264 /content/wepons-detection-2/test/images/KravMagaKnifeDefenseTechniques147_jpg.rf.6416e1f5884b3aa6ce1ee1f9f8a1f64a.jpg: 640x640 1 Knife, 2 persons, 7.8ms\n",
            "image 61/264 /content/wepons-detection-2/test/images/KravMagaKnifeDefenseTechniques170_jpg.rf.cf0bdef3d7fe914583ce5ddfb827fe3f.jpg: 640x640 1 Knife, 2 persons, 7.3ms\n",
            "image 62/264 /content/wepons-detection-2/test/images/KravMagaKnifeDefenseTechniques780_jpg.rf.1c6f928e41126d414c562a3b73248b5e.jpg: 640x640 1 Knife, 2 persons, 7.3ms\n",
            "image 63/264 /content/wepons-detection-2/test/images/KravMagaTraining20595_jpg.rf.65ae7620aac2a358e743f230a1caba38.jpg: 640x640 1 Knife, 2 persons, 7.6ms\n",
            "image 64/264 /content/wepons-detection-2/test/images/Normal_shopping_3_new_17_jpg.rf.502133ed342ba7612b8c389f42586d9b.jpg: 640x640 5 persons, 9.2ms\n",
            "image 65/264 /content/wepons-detection-2/test/images/Shoplifting001_x264_6_jpg.rf.9fa7face9981d3895486815aba7b35e3.jpg: 640x640 3 persons, 7.4ms\n",
            "image 66/264 /content/wepons-detection-2/test/images/Shoplifting005_x264_14_jpg.rf.716c7ddcec7b2884fb0559d3f2ad8af1.jpg: 640x640 1 person, 7.4ms\n",
            "image 67/264 /content/wepons-detection-2/test/images/Shoplifting005_x264_16_jpg.rf.f614f15d5138b2e5065405fc16698e0e.jpg: 640x640 1 person, 7.3ms\n",
            "image 68/264 /content/wepons-detection-2/test/images/Shoplifting005_x264_18_jpg.rf.7e890fa80d2d614d1eda54318980ba6d.jpg: 640x640 1 person, 7.2ms\n",
            "image 69/264 /content/wepons-detection-2/test/images/Shoplifting005_x264_26_jpg.rf.b5997ac4383980dba6def16ace298245.jpg: 640x640 1 person, 7.1ms\n",
            "image 70/264 /content/wepons-detection-2/test/images/Shoplifting009_x264_10_jpg.rf.02641d7f7d7beb1b2166c30cc1d1caf0.jpg: 640x640 4 persons, 7.2ms\n",
            "image 71/264 /content/wepons-detection-2/test/images/Shoplifting009_x264_47_jpg.rf.32520862e67f1cb7c1251c76e24e92e9.jpg: 640x640 4 persons, 7.3ms\n",
            "image 72/264 /content/wepons-detection-2/test/images/Shoplifting010_x264_29_jpg.rf.48b43eb5d30b052731e0561157d44cc0.jpg: 640x640 3 persons, 7.9ms\n",
            "image 73/264 /content/wepons-detection-2/test/images/armas-1773-_jpg.rf.5ccefb6154d1c38ef1c4dbb78211f336.jpg: 640x640 1 guns, 8.0ms\n",
            "image 74/264 /content/wepons-detection-2/test/images/armas-2874-_jpg.rf.067bfa4984a10901e21688f63bda1237.jpg: 640x640 1 Knife, 2 persons, 1 rifle, 1 weapon, 8.7ms\n",
            "image 75/264 /content/wepons-detection-2/test/images/armas-625-_jpg.rf.6dbf7150a4e7972827d87840606235a5.jpg: 640x640 1 guns, 1 person, 8.0ms\n",
            "image 76/264 /content/wepons-detection-2/test/images/armas-822-_jpg.rf.3f434ac82deed8e35c331120840fe285.jpg: 640x640 1 guns, 1 rifle, 7.6ms\n",
            "image 77/264 /content/wepons-detection-2/test/images/frame13748_jpg.rf.89d70af5d785dfdcd99528f46e6883a6.jpg: 640x640 (no detections), 7.4ms\n",
            "image 78/264 /content/wepons-detection-2/test/images/frame16878_jpg.rf.b1e7c4ab52edce3bcd03633a8a72e502.jpg: 640x640 1 person, 7.4ms\n",
            "image 79/264 /content/wepons-detection-2/test/images/frame1_0029_jpg.rf.73940a52e4c8ed6414d333e3765656d5.jpg: 640x640 6 persons, 8.6ms\n",
            "image 80/264 /content/wepons-detection-2/test/images/frame1_0039_jpg.rf.6b7f9c83455526a1eee425bbbe399c69.jpg: 640x640 8 persons, 7.7ms\n",
            "image 81/264 /content/wepons-detection-2/test/images/frame1_0040_jpg.rf.ecbc20f7253fbf8188b8f2b7544d522f.jpg: 640x640 4 persons, 7.4ms\n",
            "image 82/264 /content/wepons-detection-2/test/images/frame1_0041_jpg.rf.557e592d6302f5e0cf0c5b29ba3be95e.jpg: 640x640 4 persons, 7.5ms\n",
            "image 83/264 /content/wepons-detection-2/test/images/frame1_0045_jpg.rf.dcef29dbdf8f10eada0229eb21308129.jpg: 640x640 4 persons, 7.3ms\n",
            "image 84/264 /content/wepons-detection-2/test/images/frame4021_jpg.rf.282b76b15b8f68c2f642211d287a35ac.jpg: 640x640 1 Knife, 1 person, 8.4ms\n",
            "image 85/264 /content/wepons-detection-2/test/images/frame4556_jpg.rf.73fb76add42ad7bca64a8d29b2fbf320.jpg: 640x640 1 Knife, 1 person, 7.2ms\n",
            "image 86/264 /content/wepons-detection-2/test/images/frame4633_jpg.rf.03cd220dbeca97347eb189a6d0f08862.jpg: 640x640 1 Knife, 1 person, 7.8ms\n",
            "image 87/264 /content/wepons-detection-2/test/images/frame5244_jpg.rf.8898c514c3529aa63a2f0c821656515f.jpg: 640x640 1 Knife, 1 person, 7.9ms\n",
            "image 88/264 /content/wepons-detection-2/test/images/frame5298_jpg.rf.85549cc5e226078b8593e00737245d88.jpg: 640x640 1 Knife, 1 person, 8.7ms\n",
            "image 89/264 /content/wepons-detection-2/test/images/images-1-_jpg.rf.d72c3564e47a3c2a71cbee85380ae275.jpg: 640x640 (no detections), 8.5ms\n",
            "image 90/264 /content/wepons-detection-2/test/images/images-10-_jpg.rf.a221d2391eb26da2165c6d146030cadd.jpg: 640x640 2 gunss, 8.0ms\n",
            "image 91/264 /content/wepons-detection-2/test/images/images-6-_jpg.rf.ded2bd45e18a5758c9dc60e87a5b00bd.jpg: 640x640 1 Knife, 7.6ms\n",
            "image 92/264 /content/wepons-detection-2/test/images/knife39_jpg.rf.56dcfa26c3d21ca3a3a96ece071e4da8.jpg: 640x640 3 Knifes, 7.3ms\n",
            "image 93/264 /content/wepons-detection-2/test/images/knife_1173_jpg.rf.b0b2e0a8fe67374b658650a55068f68a.jpg: 640x640 (no detections), 8.3ms\n",
            "image 94/264 /content/wepons-detection-2/test/images/knife_1210_jpg.rf.c9b23628aabeb44dee2950caa5ed5141.jpg: 640x640 1 Knife, 1 person, 1 rifle, 7.8ms\n",
            "image 95/264 /content/wepons-detection-2/test/images/knife_1238_jpg.rf.5b9d2c8bd742ac27cf18aabfad01329b.jpg: 640x640 1 Knife, 2 persons, 7.7ms\n",
            "image 96/264 /content/wepons-detection-2/test/images/knife_1305_jpg.rf.b90659bc28912307ce4b1ea4d849fa53.jpg: 640x640 2 Knifes, 1 person, 7.4ms\n",
            "image 97/264 /content/wepons-detection-2/test/images/knife_241_jpg.rf.d9d70a4e037d8ae711841f7f654f86e9.jpg: 640x640 3 Knifes, 2 persons, 7.5ms\n",
            "image 98/264 /content/wepons-detection-2/test/images/knife_307_jpg.rf.caf08f9a39f22840b72f03001b33d358.jpg: 640x640 1 guns, 1 Knife, 1 weapon, 7.7ms\n",
            "image 99/264 /content/wepons-detection-2/test/images/knife_327_jpg.rf.45f139e19243798dd6d51694c96163df.jpg: 640x640 1 Knife, 1 rifle, 7.9ms\n",
            "image 100/264 /content/wepons-detection-2/test/images/knife_342_jpg.rf.da8815277e69dfdf20574ca86bcecc6e.jpg: 640x640 2 Knifes, 7.7ms\n",
            "image 101/264 /content/wepons-detection-2/test/images/knife_535_jpg.rf.9ae41c492afc04dee3944f97445dc6c6.jpg: 640x640 2 Knifes, 1 person, 7.3ms\n",
            "image 102/264 /content/wepons-detection-2/test/images/knife_583_jpg.rf.779ace517d2138a9de2640475b10ad2d.jpg: 640x640 2 Knifes, 7.2ms\n",
            "image 103/264 /content/wepons-detection-2/test/images/knife_594_jpg.rf.60f48153adb3dc7eb2e49778ff34895d.jpg: 640x640 2 Knifes, 1 person, 7.6ms\n",
            "image 104/264 /content/wepons-detection-2/test/images/knife_595_jpg.rf.54abf66b3ac235c5a1f2a4fe1ebccd26.jpg: 640x640 1 Knife, 1 person, 7.8ms\n",
            "image 105/264 /content/wepons-detection-2/test/images/knife_598_jpg.rf.a1100581b8f3f3c3e3b77cf8b652ba20.jpg: 640x640 1 Knife, 1 person, 7.6ms\n",
            "image 106/264 /content/wepons-detection-2/test/images/knife_616_jpg.rf.36ff3e8c200703618eca745692884bfa.jpg: 640x640 1 Knife, 2 persons, 7.6ms\n",
            "image 107/264 /content/wepons-detection-2/test/images/knife_772_jpg.rf.256e71e98d7f245e01efd18d5e5bdd86.jpg: 640x640 2 Knifes, 2 persons, 8.2ms\n",
            "image 108/264 /content/wepons-detection-2/test/images/knife_958_jpg.rf.df2589138b20eec54793709c310151f8.jpg: 640x640 1 Knife, 2 persons, 8.6ms\n",
            "image 109/264 /content/wepons-detection-2/test/images/point01_469_png.rf.539b3ab6a2c883181d47c4dc751d3a16.jpg: 640x640 1 person, 7.7ms\n",
            "image 110/264 /content/wepons-detection-2/test/images/point01_480_png.rf.204821237c473fb36e2734524c579654.jpg: 640x640 1 person, 8.0ms\n",
            "image 111/264 /content/wepons-detection-2/test/images/point01_671_png.rf.1908f400d0a6eeba1f531f6e0e9e2ce7.jpg: 640x640 3 persons, 8.1ms\n",
            "image 112/264 /content/wepons-detection-2/test/images/point01_674_png.rf.3bdfe3d231e3dff2fd36ec27ba6d6e40.jpg: 640x640 3 persons, 8.8ms\n",
            "image 113/264 /content/wepons-detection-2/test/images/point01_679_png.rf.4a342e7e8ef23a25493ee2aac5bfe6e1.jpg: 640x640 2 persons, 7.8ms\n",
            "image 114/264 /content/wepons-detection-2/test/images/point01_684_png.rf.d6e78798587539f2a29e0b29e7eacc8e.jpg: 640x640 1 person, 7.6ms\n",
            "image 115/264 /content/wepons-detection-2/test/images/point01_707_png.rf.9525b5260a943f5e07ca152ea4cfd6bf.jpg: 640x640 2 persons, 7.7ms\n",
            "image 116/264 /content/wepons-detection-2/test/images/point01_709_png.rf.35ec425d7bada3a3ca5ee86b62730184.jpg: 640x640 1 person, 7.7ms\n",
            "image 117/264 /content/wepons-detection-2/test/images/point01_716_png.rf.e60ee576676ae5054b122f0fa65d5ef2.jpg: 640x640 1 person, 7.8ms\n",
            "image 118/264 /content/wepons-detection-2/test/images/point01_719_png.rf.42c545663f4f567f1b6c79f9a35c3325.jpg: 640x640 1 person, 7.5ms\n",
            "image 119/264 /content/wepons-detection-2/test/images/point02_101_png.rf.a8f4c53bf8c9855885590636b8c46bbd.jpg: 640x640 1 person, 7.3ms\n",
            "image 120/264 /content/wepons-detection-2/test/images/point02_104_png.rf.e594a3a28584693de95457046320e48f.jpg: 640x640 1 person, 7.6ms\n",
            "image 121/264 /content/wepons-detection-2/test/images/point02_112_png.rf.b1ec586e154805ade83323fc5d48fd83.jpg: 640x640 1 person, 8.0ms\n",
            "image 122/264 /content/wepons-detection-2/test/images/point02_115_png.rf.3a7cd11e7e9eb176ef1275c13075150e.jpg: 640x640 2 persons, 1 weapon, 7.6ms\n",
            "image 123/264 /content/wepons-detection-2/test/images/point02_117_png.rf.f109ac042f4a18fd8da60afb6bd7b9de.jpg: 640x640 2 persons, 7.6ms\n",
            "image 124/264 /content/wepons-detection-2/test/images/point02_118_png.rf.e969c9a3f5c5d99ceef6f5a3078970fd.jpg: 640x640 3 persons, 7.6ms\n",
            "image 125/264 /content/wepons-detection-2/test/images/point02_131_png.rf.efd2362b461c848f07e22d8370c84c1c.jpg: 640x640 2 persons, 7.8ms\n",
            "image 126/264 /content/wepons-detection-2/test/images/point02_133_png.rf.ee5ea9ccb48ecbb8eb0baeba9aa3f16f.jpg: 640x640 2 persons, 7.7ms\n",
            "image 127/264 /content/wepons-detection-2/test/images/point02_134_png.rf.9219d97d739136d8556b57cf3dac8206.jpg: 640x640 1 person, 7.5ms\n",
            "image 128/264 /content/wepons-detection-2/test/images/point02_139_png.rf.65c78d696b0069c543954f8d81db81d5.jpg: 640x640 2 persons, 1 weapon, 7.7ms\n",
            "image 129/264 /content/wepons-detection-2/test/images/point02_143_png.rf.573f74183ea5a2ceb79dfbf331fb5f4e.jpg: 640x640 1 person, 8.0ms\n",
            "image 130/264 /content/wepons-detection-2/test/images/point02_144_png.rf.e7c58839025baec7eadf3240a4bc2787.jpg: 640x640 2 persons, 1 weapon, 7.9ms\n",
            "image 131/264 /content/wepons-detection-2/test/images/point02_151_png.rf.f739a27026b79ad55e3c5ff8c1421a68.jpg: 640x640 2 persons, 8.2ms\n",
            "image 132/264 /content/wepons-detection-2/test/images/point02_155_png.rf.d20469ff5afa1e8e3ba08bf7d9aaeeec.jpg: 640x640 2 persons, 7.5ms\n",
            "image 133/264 /content/wepons-detection-2/test/images/point02_162_png.rf.1cd72ea0c6fd05fb2ca9c23bf595bf73.jpg: 640x640 1 person, 7.4ms\n",
            "image 134/264 /content/wepons-detection-2/test/images/point02_164_png.rf.b076a461eab569e30be44d621a06c3fd.jpg: 640x640 1 person, 7.2ms\n",
            "image 135/264 /content/wepons-detection-2/test/images/point02_172_png.rf.15aeb55173d53a5a9e39bef2fddfa1b5.jpg: 640x640 1 Knife, 2 persons, 8.9ms\n",
            "image 136/264 /content/wepons-detection-2/test/images/point02_183_png.rf.04cf7fa25e7b0e75c2dd445c5d570652.jpg: 640x640 2 persons, 8.5ms\n",
            "image 137/264 /content/wepons-detection-2/test/images/point02_19_png.rf.f535688e2fd56583633d5ea4374cdf08.jpg: 640x640 2 persons, 7.6ms\n",
            "image 138/264 /content/wepons-detection-2/test/images/point02_205_png.rf.00a4520f4a7cad266830406e6c6595d6.jpg: 640x640 2 persons, 8.2ms\n",
            "image 139/264 /content/wepons-detection-2/test/images/point02_223_png.rf.dfff2fff56da7f34317a6987c4d09872.jpg: 640x640 3 persons, 7.8ms\n",
            "image 140/264 /content/wepons-detection-2/test/images/point02_227_png.rf.7f5b26b97d150d54d8e52a708d8c6170.jpg: 640x640 3 persons, 7.2ms\n",
            "image 141/264 /content/wepons-detection-2/test/images/point02_229_png.rf.eff0ec6ee56c5fdff1f84a2d972f9e88.jpg: 640x640 5 persons, 7.3ms\n",
            "image 142/264 /content/wepons-detection-2/test/images/point02_24_png.rf.1a66eeb0dd22d5cfb5de7e87d17b79e2.jpg: 640x640 3 persons, 8.2ms\n",
            "image 143/264 /content/wepons-detection-2/test/images/point02_28_png.rf.8a03628095fe98d4933f02491b739f5a.jpg: 640x640 2 persons, 8.0ms\n",
            "image 144/264 /content/wepons-detection-2/test/images/point02_31_png.rf.8a886ada2691eee0327e7cd974684501.jpg: 640x640 1 person, 7.3ms\n",
            "image 145/264 /content/wepons-detection-2/test/images/point02_3_png.rf.a169a727f903811d5e8fd0742b5fabda.jpg: 640x640 2 persons, 7.4ms\n",
            "image 146/264 /content/wepons-detection-2/test/images/point02_45_png.rf.1a8663815bb3fd53e91d70c8a336fe51.jpg: 640x640 1 person, 1 weapon, 8.0ms\n",
            "image 147/264 /content/wepons-detection-2/test/images/point02_52_png.rf.0301fdf535312625cc41a65be5553539.jpg: 640x640 2 persons, 7.8ms\n",
            "image 148/264 /content/wepons-detection-2/test/images/point02_54_png.rf.f8d0362a8b035990b7191d6d6890386a.jpg: 640x640 2 persons, 8.2ms\n",
            "image 149/264 /content/wepons-detection-2/test/images/point02_58_png.rf.1b82ffa955b926d69f08fd33a59d6561.jpg: 640x640 1 person, 8.8ms\n",
            "image 150/264 /content/wepons-detection-2/test/images/point02_64_png.rf.9b55cf84e624e3ae8d4f1b30aa2d5665.jpg: 640x640 1 person, 7.7ms\n",
            "image 151/264 /content/wepons-detection-2/test/images/point02_73_png.rf.262feec2bb09221c8d0f9203122304c0.jpg: 640x640 1 person, 8.3ms\n",
            "image 152/264 /content/wepons-detection-2/test/images/point02_78_png.rf.0f7ebe7cb9a6a61e431d990e831e7af7.jpg: 640x640 1 person, 7.7ms\n",
            "image 153/264 /content/wepons-detection-2/test/images/point02_93_png.rf.3ee67ed242fdf52f0ec45ac16a760745.jpg: 640x640 1 person, 7.5ms\n",
            "image 154/264 /content/wepons-detection-2/test/images/point03_140_png.rf.e32bb417620417edf1c544fb7f7ec5df.jpg: 640x640 2 persons, 7.6ms\n",
            "image 155/264 /content/wepons-detection-2/test/images/point03_142_png.rf.69855c5bb57e4cdc59bfc8ff232d887c.jpg: 640x640 1 person, 7.6ms\n",
            "image 156/264 /content/wepons-detection-2/test/images/point03_146_png.rf.b4eec072b0ca226bc281f133dff9dcbb.jpg: 640x640 3 persons, 7.4ms\n",
            "image 157/264 /content/wepons-detection-2/test/images/point03_14_png.rf.6aaa531abb2b33c13cc39a5ca7d42109.jpg: 640x640 1 person, 7.3ms\n",
            "image 158/264 /content/wepons-detection-2/test/images/point03_15_png.rf.9a3fe922cb86ff113b1a4a8e711440d2.jpg: 640x640 1 person, 7.3ms\n",
            "image 159/264 /content/wepons-detection-2/test/images/point03_22_png.rf.eaf7d469dcd13699b2ca4d54d1f0069e.jpg: 640x640 1 person, 7.3ms\n",
            "image 160/264 /content/wepons-detection-2/test/images/point03_26_png.rf.14d5f6dce098aaff5dcd29ae85f54360.jpg: 640x640 1 person, 7.3ms\n",
            "image 161/264 /content/wepons-detection-2/test/images/point03_27_png.rf.c1f6d3e7860cf504ebaa009f713ceee2.jpg: 640x640 2 persons, 7.6ms\n",
            "image 162/264 /content/wepons-detection-2/test/images/point03_28_png.rf.dd695d0756fe460dabe75cd464e44977.jpg: 640x640 2 persons, 7.6ms\n",
            "image 163/264 /content/wepons-detection-2/test/images/point03_32_png.rf.b4943ddd495cc99b2aab8134da7ee73f.jpg: 640x640 2 persons, 7.8ms\n",
            "image 164/264 /content/wepons-detection-2/test/images/point03_33_png.rf.4fce6f9575d85ea4d3e7746315ca3374.jpg: 640x640 1 person, 7.8ms\n",
            "image 165/264 /content/wepons-detection-2/test/images/point03_34_png.rf.1ab7ff195d94918797891d26c59c3ca2.jpg: 640x640 1 person, 7.6ms\n",
            "image 166/264 /content/wepons-detection-2/test/images/point03_42_png.rf.a982946749baa48d1b1e883b6280d4df.jpg: 640x640 1 person, 7.5ms\n",
            "image 167/264 /content/wepons-detection-2/test/images/point03_51_png.rf.79f78e122432a3ee477b7d31c47b3d01.jpg: 640x640 2 persons, 8.1ms\n",
            "image 168/264 /content/wepons-detection-2/test/images/point03_53_png.rf.46edcf0f773fbaeb73d7442aa48458b0.jpg: 640x640 3 persons, 7.7ms\n",
            "image 169/264 /content/wepons-detection-2/test/images/point03_65_png.rf.545ddfd4cf6543bbe60630fa448706b2.jpg: 640x640 1 person, 1 rifle, 8.2ms\n",
            "image 170/264 /content/wepons-detection-2/test/images/point03_68_png.rf.5a9b6e66a0a971f0a21179794b068012.jpg: 640x640 3 persons, 7.4ms\n",
            "image 171/264 /content/wepons-detection-2/test/images/point03_75_png.rf.7d9109e4a13e5689ffd79dc7fa87a63d.jpg: 640x640 2 persons, 7.4ms\n",
            "image 172/264 /content/wepons-detection-2/test/images/point03_79_png.rf.28ca7838bb8296a92088be15243aa5f4.jpg: 640x640 2 persons, 7.5ms\n",
            "image 173/264 /content/wepons-detection-2/test/images/point03_94_png.rf.e462bc16d2499f9215fd779f358501c2.jpg: 640x640 1 person, 7.7ms\n",
            "image 174/264 /content/wepons-detection-2/test/images/point04_148_png.rf.cea512c71ec24ee020e80185aa9a4d04.jpg: 640x640 1 person, 7.5ms\n",
            "image 175/264 /content/wepons-detection-2/test/images/point04_185_png.rf.1ce96d7d85452bc291fc1c2944d0a23a.jpg: 640x640 3 persons, 7.3ms\n",
            "image 176/264 /content/wepons-detection-2/test/images/point04_186_png.rf.7e52e01fae1afb4b997bea5ec6c62bc8.jpg: 640x640 1 person, 7.3ms\n",
            "image 177/264 /content/wepons-detection-2/test/images/point04_209_png.rf.0e14b2419977acd7d3fb91bb553a952e.jpg: 640x640 1 person, 7.3ms\n",
            "image 178/264 /content/wepons-detection-2/test/images/point04_215_png.rf.d66f5221602c5b2a9790552e5820c2ca.jpg: 640x640 1 person, 7.2ms\n",
            "image 179/264 /content/wepons-detection-2/test/images/point04_219_png.rf.dc4dd24a1bca6d4041bee6aaad0f819f.jpg: 640x640 (no detections), 7.5ms\n",
            "image 180/264 /content/wepons-detection-2/test/images/point04_254_png.rf.5ce8431936a828a86e7967e4a6121e2f.jpg: 640x640 1 person, 7.1ms\n",
            "image 181/264 /content/wepons-detection-2/test/images/point04_275_png.rf.da8c7ba5fd702d0293d702be33901691.jpg: 640x640 2 persons, 7.6ms\n",
            "image 182/264 /content/wepons-detection-2/test/images/point04_289_png.rf.d0b0c6553f6be56a3d020af39ee4d7c4.jpg: 640x640 1 person, 7.8ms\n",
            "image 183/264 /content/wepons-detection-2/test/images/point04_299_png.rf.014a9554f61b7eacd6b54a162c54c590.jpg: 640x640 1 person, 8.3ms\n",
            "image 184/264 /content/wepons-detection-2/test/images/point04_303_png.rf.bfe1101c354127ccc5d18142fb02f93e.jpg: 640x640 1 person, 2 weapons, 8.2ms\n",
            "image 185/264 /content/wepons-detection-2/test/images/point04_309_png.rf.d6517c8dee67793313414ce21bb81e83.jpg: 640x640 1 person, 7.9ms\n",
            "image 186/264 /content/wepons-detection-2/test/images/point04_326_png.rf.d20e85854e0c3f5ae4e8fe26ef27c319.jpg: 640x640 1 person, 7.5ms\n",
            "image 187/264 /content/wepons-detection-2/test/images/point04_327_png.rf.75e2063967fc113d3f89d373ad033d45.jpg: 640x640 3 persons, 1 rifle, 1 weapon, 7.4ms\n",
            "image 188/264 /content/wepons-detection-2/test/images/point04_338_png.rf.ad515694e399d7ce58617bd7149a9053.jpg: 640x640 2 persons, 7.3ms\n",
            "image 189/264 /content/wepons-detection-2/test/images/point04_341_png.rf.ba1aabf95740488d51ed3d78866be563.jpg: 640x640 2 persons, 7.5ms\n",
            "image 190/264 /content/wepons-detection-2/test/images/point04_343_png.rf.cdacafd8c0f4697ad12db9fa5dff5c35.jpg: 640x640 1 person, 7.2ms\n",
            "image 191/264 /content/wepons-detection-2/test/images/point04_344_png.rf.6531e90c67a88dc61f814e2fb95d26df.jpg: 640x640 1 person, 7.3ms\n",
            "image 192/264 /content/wepons-detection-2/test/images/point04_354_png.rf.d564ced460c17992d375fa7b543d6f7e.jpg: 640x640 2 persons, 7.4ms\n",
            "image 193/264 /content/wepons-detection-2/test/images/point04_357_png.rf.3cd35bf6cef1dce78969af5832bd1f8a.jpg: 640x640 1 person, 7.2ms\n",
            "image 194/264 /content/wepons-detection-2/test/images/point04_362_png.rf.dd00379c87107711e2163e1e2558ef9f.jpg: 640x640 2 persons, 9.1ms\n",
            "image 195/264 /content/wepons-detection-2/test/images/point04_365_png.rf.b3b11f101fe166a2ec434ba16de6fc72.jpg: 640x640 2 persons, 7.6ms\n",
            "image 196/264 /content/wepons-detection-2/test/images/point04_405_png.rf.46d02a562595dbaa93308a960ce2c28d.jpg: 640x640 3 persons, 8.2ms\n",
            "image 197/264 /content/wepons-detection-2/test/images/point04_442_png.rf.789bae521ba66634fbe475dd3a1fd97b.jpg: 640x640 1 person, 1 weapon, 8.1ms\n",
            "image 198/264 /content/wepons-detection-2/test/images/point04_448_png.rf.ffc020e41b1d1623395e0ef0fb09825d.jpg: 640x640 1 person, 8.7ms\n",
            "image 199/264 /content/wepons-detection-2/test/images/point04_454_png.rf.397c26ad1d14db367132c188d38113e0.jpg: 640x640 1 person, 9.0ms\n",
            "image 200/264 /content/wepons-detection-2/test/images/point04_490_png.rf.82ef9d06a36c27cba4b26777dae98800.jpg: 640x640 1 person, 7.8ms\n",
            "image 201/264 /content/wepons-detection-2/test/images/point04_500_png.rf.844c4ebfea5172f3b621ecd5f618615d.jpg: 640x640 2 persons, 7.3ms\n",
            "image 202/264 /content/wepons-detection-2/test/images/point04_505_png.rf.70c28faa18a4f04d1f02293d88c8206c.jpg: 640x640 2 persons, 1 rifle, 7.4ms\n",
            "image 203/264 /content/wepons-detection-2/test/images/point04_548_png.rf.33da66258747f038b3859ba9eafa9c75.jpg: 640x640 1 person, 1 weapon, 7.2ms\n",
            "image 204/264 /content/wepons-detection-2/test/images/point04_573_png.rf.42b767780912a2a8d5e8febd4893bea7.jpg: 640x640 3 persons, 7.2ms\n",
            "image 205/264 /content/wepons-detection-2/test/images/point04_578_png.rf.fb398cbc7d346bd82bdcb08a2efdc0af.jpg: 640x640 4 persons, 7.6ms\n",
            "image 206/264 /content/wepons-detection-2/test/images/point04_59_png.rf.df72ac8297967510ffe597f38a60f4cd.jpg: 640x640 4 persons, 7.4ms\n",
            "image 207/264 /content/wepons-detection-2/test/images/point04_677_png.rf.6835155e0344060de1ba9bbb6eed6afa.jpg: 640x640 (no detections), 7.7ms\n",
            "image 208/264 /content/wepons-detection-2/test/images/point04_73_png.rf.99bde412591a6f74c06205366c217107.jpg: 640x640 1 person, 1 weapon, 7.3ms\n",
            "image 209/264 /content/wepons-detection-2/test/images/point04_98_png.rf.6affefd4b74a8389db938ed08b5637d3.jpg: 640x640 2 persons, 1 weapon, 8.2ms\n",
            "image 210/264 /content/wepons-detection-2/test/images/point05_115_png.rf.b5a36f1dbcdb1f87870498e83298933b.jpg: 640x640 4 persons, 1 weapon, 7.5ms\n",
            "image 211/264 /content/wepons-detection-2/test/images/point05_138_png.rf.347de164b9e8c618a7f83f680e2fc767.jpg: 640x640 (no detections), 7.5ms\n",
            "image 212/264 /content/wepons-detection-2/test/images/point05_143_png.rf.852dcd750017c2d2c9c4c865fd269340.jpg: 640x640 2 persons, 7.5ms\n",
            "image 213/264 /content/wepons-detection-2/test/images/point05_144_png.rf.85cba16fa1a060715d1870c77a2421a2.jpg: 640x640 3 persons, 7.4ms\n",
            "image 214/264 /content/wepons-detection-2/test/images/point05_146_png.rf.e84fb7dfd80ce7cd1d4564d582d9a481.jpg: 640x640 1 person, 7.6ms\n",
            "image 215/264 /content/wepons-detection-2/test/images/point05_153_png.rf.24185cf06f1f8ffab2e5939b55a9f801.jpg: 640x640 1 person, 7.5ms\n",
            "image 216/264 /content/wepons-detection-2/test/images/point05_160_png.rf.ca0c14ab2f300cc355ada824df02006c.jpg: 640x640 1 person, 8.8ms\n",
            "image 217/264 /content/wepons-detection-2/test/images/point05_166_png.rf.0e714d83b8830c5b9bfee8bc6e5838be.jpg: 640x640 1 person, 7.3ms\n",
            "image 218/264 /content/wepons-detection-2/test/images/point05_177_png.rf.c8ddedb391d9829c4a99d824c63af2c3.jpg: 640x640 1 person, 7.4ms\n",
            "image 219/264 /content/wepons-detection-2/test/images/point05_19_png.rf.40c375209f7ae2a2475c53e1999e4f1a.jpg: 640x640 1 person, 7.2ms\n",
            "image 220/264 /content/wepons-detection-2/test/images/point05_201_png.rf.630b969280795cf66e4d843a173cec6d.jpg: 640x640 1 person, 7.3ms\n",
            "image 221/264 /content/wepons-detection-2/test/images/point05_204_png.rf.09d315961d7c0ff7e4da0f56cf5e1a64.jpg: 640x640 2 persons, 7.8ms\n",
            "image 222/264 /content/wepons-detection-2/test/images/point05_206_png.rf.2e0d85475c4f00fc98315cc7cacaca71.jpg: 640x640 1 person, 7.5ms\n",
            "image 223/264 /content/wepons-detection-2/test/images/point05_216_png.rf.880f4ecdb9bae773c242f5a9cb79011f.jpg: 640x640 1 person, 7.4ms\n",
            "image 224/264 /content/wepons-detection-2/test/images/point05_225_png.rf.57bfaff673f85bda1f0598661356d673.jpg: 640x640 1 person, 7.8ms\n",
            "image 225/264 /content/wepons-detection-2/test/images/point05_240_png.rf.84f1dc2d49f17be59c9605a999b8e23d.jpg: 640x640 1 person, 7.4ms\n",
            "image 226/264 /content/wepons-detection-2/test/images/point05_241_png.rf.e69d629b7616dbffcaf61d64e9bd26ba.jpg: 640x640 1 person, 7.7ms\n",
            "image 227/264 /content/wepons-detection-2/test/images/point05_26_png.rf.b08f73bfcbfc226c2d35fee1b5caccbb.jpg: 640x640 1 person, 7.5ms\n",
            "image 228/264 /content/wepons-detection-2/test/images/point05_39_png.rf.9aa3bf8457637f5c123faf04d1680cc4.jpg: 640x640 3 persons, 7.3ms\n",
            "image 229/264 /content/wepons-detection-2/test/images/point05_3_png.rf.a0e94b722aa862c8041d8ffec28b9ba7.jpg: 640x640 2 persons, 7.2ms\n",
            "image 230/264 /content/wepons-detection-2/test/images/point05_49_png.rf.1d66c62c607e5fe4dde934807d593220.jpg: 640x640 1 person, 7.2ms\n",
            "image 231/264 /content/wepons-detection-2/test/images/point05_57_png.rf.5a15c865b6eb2b66f16929188290bd76.jpg: 640x640 1 person, 7.5ms\n",
            "image 232/264 /content/wepons-detection-2/test/images/point05_65_png.rf.d583e3d56833937d09195317afcf3f18.jpg: 640x640 1 person, 7.5ms\n",
            "image 233/264 /content/wepons-detection-2/test/images/point05_76_png.rf.a09a044c74e289d38a0e31a61da35d1e.jpg: 640x640 1 person, 7.9ms\n",
            "image 234/264 /content/wepons-detection-2/test/images/point05_88_png.rf.b5a68ba20550e8690f76b1f4b1b31580.jpg: 640x640 1 person, 7.8ms\n",
            "image 235/264 /content/wepons-detection-2/test/images/point06_105_png.rf.6ea51156bd81cd22770e1624d72f5504.jpg: 640x640 2 persons, 1 weapon, 8.1ms\n",
            "image 236/264 /content/wepons-detection-2/test/images/point06_118_png.rf.ff74ade16fdd05032da0afa81f17f871.jpg: 640x640 1 person, 1 weapon, 7.4ms\n",
            "image 237/264 /content/wepons-detection-2/test/images/point06_11_png.rf.77bcdcd4397702448c30a02730c90e83.jpg: 640x640 1 person, 1 weapon, 7.5ms\n",
            "image 238/264 /content/wepons-detection-2/test/images/point06_12_png.rf.4a3e66b4fa1b15be136830a5e40f3ba3.jpg: 640x640 2 persons, 1 weapon, 7.3ms\n",
            "image 239/264 /content/wepons-detection-2/test/images/point06_138_png.rf.b1c9a3c4e82eaf5833482b94c50d9a16.jpg: 640x640 3 persons, 8.1ms\n",
            "image 240/264 /content/wepons-detection-2/test/images/point06_139_png.rf.c3aada7ae3fdf8c84ed167fa2d7c909f.jpg: 640x640 1 person, 1 weapon, 7.4ms\n",
            "image 241/264 /content/wepons-detection-2/test/images/point06_13_png.rf.0c40b51b6ebc6d790d703714dadfe3ca.jpg: 640x640 4 persons, 2 weapons, 7.3ms\n",
            "image 242/264 /content/wepons-detection-2/test/images/point06_14_png.rf.bd5511c704679532c7b6fde19e7a89d7.jpg: 640x640 4 persons, 1 weapon, 7.1ms\n",
            "image 243/264 /content/wepons-detection-2/test/images/point06_159_png.rf.3ad8035a6e441bb2de643ebc619947a8.jpg: 640x640 1 person, 2 weapons, 7.0ms\n",
            "image 244/264 /content/wepons-detection-2/test/images/point06_192_png.rf.5c756a8faf649d96d0d53e0f30b26229.jpg: 640x640 1 person, 1 rifle, 1 weapon, 7.0ms\n",
            "image 245/264 /content/wepons-detection-2/test/images/point06_204_png.rf.1fb143facd7fc76f612a839b2a699bfc.jpg: 640x640 2 persons, 1 weapon, 7.0ms\n",
            "image 246/264 /content/wepons-detection-2/test/images/point06_20_png.rf.aee27e9261a8934db9a3159342a9461f.jpg: 640x640 3 persons, 1 weapon, 7.5ms\n",
            "image 247/264 /content/wepons-detection-2/test/images/point06_210_png.rf.11c421ac9c5d8eca6f922f4812f8aa54.jpg: 640x640 1 rifle, 1 weapon, 7.9ms\n",
            "image 248/264 /content/wepons-detection-2/test/images/point06_221_png.rf.aba60009e412ef45a6bb637de9058b51.jpg: 640x640 1 person, 1 weapon, 8.2ms\n",
            "image 249/264 /content/wepons-detection-2/test/images/point06_23_png.rf.f2d80d67e8abe4a5f916a97ced5a8b1f.jpg: 640x640 1 person, 1 weapon, 8.4ms\n",
            "image 250/264 /content/wepons-detection-2/test/images/point06_25_png.rf.c38bcae396009d2bb72cfb927a2ccc83.jpg: 640x640 1 person, 1 weapon, 7.9ms\n",
            "image 251/264 /content/wepons-detection-2/test/images/point06_26_png.rf.bc076f8279794a399eeb4c9c5095468e.jpg: 640x640 2 persons, 1 weapon, 7.3ms\n",
            "image 252/264 /content/wepons-detection-2/test/images/point06_27_png.rf.549871af4c039e3c8e027ec3fe201c09.jpg: 640x640 2 persons, 1 weapon, 7.3ms\n",
            "image 253/264 /content/wepons-detection-2/test/images/point06_41_png.rf.12585fa213c13e3d5a9cc368c0f31b6b.jpg: 640x640 2 persons, 8.7ms\n",
            "image 254/264 /content/wepons-detection-2/test/images/point06_44_png.rf.1654ddcfa60e130a2c478d1b91e4c7fd.jpg: 640x640 2 persons, 1 weapon, 7.7ms\n",
            "image 255/264 /content/wepons-detection-2/test/images/point06_59_png.rf.3b02423fe9a34a3c5c66e1e457c7d260.jpg: 640x640 2 persons, 1 weapon, 7.4ms\n",
            "image 256/264 /content/wepons-detection-2/test/images/point06_67_png.rf.798e186373e3b982319dad2471cf80fb.jpg: 640x640 1 person, 1 weapon, 7.4ms\n",
            "image 257/264 /content/wepons-detection-2/test/images/point06_69_png.rf.aae58e6b3d4d4f2436cb0986e964746f.jpg: 640x640 1 person, 1 weapon, 7.2ms\n",
            "image 258/264 /content/wepons-detection-2/test/images/point06_70_png.rf.8dc8602aac2a6f37b79045f261ba75a5.jpg: 640x640 4 persons, 1 weapon, 7.5ms\n",
            "image 259/264 /content/wepons-detection-2/test/images/point06_71_png.rf.cd5aab6ff3fa958579bf2b5e60a8df06.jpg: 640x640 5 persons, 1 weapon, 7.2ms\n",
            "image 260/264 /content/wepons-detection-2/test/images/point06_82_png.rf.38a420f9ef87adf15062c4c511c3e61c.jpg: 640x640 3 persons, 1 weapon, 9.2ms\n",
            "image 261/264 /content/wepons-detection-2/test/images/point06_85_png.rf.def71214d7b19de456348e46072e3e92.jpg: 640x640 4 persons, 9.7ms\n",
            "image 262/264 /content/wepons-detection-2/test/images/point06_88_png.rf.ae22a6df54fd561bc062ab6268c5c3d6.jpg: 640x640 1 person, 1 weapon, 10.0ms\n",
            "image 263/264 /content/wepons-detection-2/test/images/point06_99_png.rf.2bff98e5ae55fdef111770f9df060851.jpg: 640x640 2 persons, 8.8ms\n",
            "image 264/264 /content/wepons-detection-2/test/images/sharpenKnife041_jpg.rf.29a40f086b2abfe0d8fb2e33f528959e.jpg: 640x640 2 Knifes, 1 person, 7.8ms\n",
            "Speed: 2.3ms preprocess, 7.7ms inference, 1.5ms postprocess per image at shape (1, 3, 640, 640)\n",
            "Results saved to \u001b[1mruns/detect/predict\u001b[0m\n",
            "✅ Inference complete! Check results in runs/detect/\n"
          ]
        }
      ],
      "source": [
        "!pip install ultralytics roboflow pyyaml\n",
        "\n",
        "from roboflow import Roboflow\n",
        "from ultralytics import YOLO\n",
        "import os, yaml\n",
        "\n",
        "rf = Roboflow(api_key=\"xxxxxxxxxxxxxxxxxxxxxxx\")\n",
        "project = rf.workspace(\"digi19\").project(\"wepons-detection-p5lkk\")\n",
        "version = project.version(2)\n",
        "dataset = version.download(\"yolov8\")\n",
        "\n",
        "data_dir = dataset.location\n",
        "print(\"📂 Dataset directory:\", data_dir)\n",
        "\n",
        "train = os.path.join(data_dir, \"train\", \"images\")\n",
        "train_labels = os.path.join(data_dir, \"train\", \"labels\")\n",
        "val   = os.path.join(data_dir, \"valid\", \"images\")\n",
        "val_labels = os.path.join(data_dir, \"valid\", \"labels\")\n",
        "data_path = os.path.join(data_dir,\"data.yaml\")\n",
        "\n",
        "assert os.path.isdir(train) and os.path.isdir(train_labels), \\\n",
        "    \"❌ Missing train/images/ or train/labels/ folders\"\n",
        "assert os.path.isdir(val) and os.path.isdir(val_labels), \\\n",
        "    \"❌ Missing valid/images/ or valid/labels/ folders\"\n",
        "\n",
        "classes = [\"gun\", \"guns\",\"hand\", \"knife\",\"Knife\",\"person\", \"phone\", \"pistol\", \"rifle\", \"ruler\", \"weapon\"]\n",
        "cfg = {\"train\": train, \"val\": val, \"nc\": len(classes), \"names\": classes}\n",
        "with open(data_path, \"w\") as f: yaml.dump(cfg, f)\n",
        "print(\"✅ data.yaml created with:\", cfg)\n",
        "\n",
        "model = YOLO(\"yolov8s.pt\")\n",
        "model.train(data=data_path, epochs=30, imgsz=640, batch=16, augment=True, name=\"weapondet\")\n",
        "\n",
        "import glob\n",
        "weights = glob.glob(\"runs/detect/weapondet/weights/best*.pt\") + glob.glob(\"runs/detect/weapondet/weights/last*.pt\")\n",
        "assert weights, \"❌ No trained weights found!\"\n",
        "best_path = weights[0]\n",
        "print(\"✅ Found weights at:\", best_path)\n",
        "model = YOLO(best_path)\n",
        "\n",
        "test_folder = os.path.join(data_dir, \"test\", \"images\")\n",
        "assert os.path.isdir(test_folder), f\"❌ test/images folder not found at {test_folder}\"\n",
        "\n",
        "results = model.predict(source=test_folder, show=True, save=True)\n",
        "\n",
        "print(\"✅ Inference complete! Check results in runs/detect/\")"
      ]
    }
  ],
  "metadata": {
    "accelerator": "GPU",
    "colab": {
      "gpuType": "A100",
      "machine_shape": "hm",
      "provenance": []
    },
    "kernelspec": {
      "display_name": "Python 3",
      "name": "python3"
    },
    "language_info": {
      "name": "python"
    }
  },
  "nbformat": 4,
  "nbformat_minor": 0
}
